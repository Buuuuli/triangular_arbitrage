{
 "cells": [
  {
   "cell_type": "code",
   "execution_count": null,
   "outputs": [],
   "source": [
    "from ibapi.account_summary_tags import AccountSummaryTags\n",
    "from ibapi.client import EClient\n",
    "from ibapi.wrapper import EWrapper\n",
    "from ibapi.contract import Contract\n",
    "from ibapi.order import Order\n",
    "from datetime import datetime\n",
    "from math import isnan\n",
    "\n",
    "import threading\n",
    "import time\n",
    "import pandas\n",
    "from pandas import DataFrame"
   ],
   "metadata": {
    "collapsed": false,
    "pycharm": {
     "name": "#%%\n"
    }
   }
  },
  {
   "cell_type": "code",
   "execution_count": null,
   "outputs": [],
   "source": [
    "class IBapi(EWrapper, EClient):\n",
    "    def __init__(self):\n",
    "        EClient.__init__(self, self)\n",
    "        self.data = []  # Initialize variable to store candle\n",
    "        self.nextorderId = None\n",
    "\n",
    "    def historicalData(self, reqId, bar):\n",
    "        print(f'reqId: {reqId} Time: {bar.date} Close: {bar.close}')\n",
    "        self.data.append([reqId, bar.date, bar.close])\n",
    "\n",
    "    def nextValidId(self, orderId: int):\n",
    "        super().nextValidId(orderId)\n",
    "        self.nextorderId = orderId\n",
    "        print('The next valid order id is: ', self.nextorderId)\n",
    "\n",
    "    def orderStatus(self, orderId, status, filled, remaining, avgFullPrice, permId, parentId, lastFillPrice, clientId,\n",
    "                    whyHeld, mktCapPrice):\n",
    "        print('orderStatus - orderid:', orderId, 'status:', status, 'filled', filled, 'remaining', remaining,\n",
    "              'lastFillPrice', lastFillPrice)\n",
    "\n",
    "    def openOrder(self, orderId, contract, order, orderState):\n",
    "        print('openOrder id:', orderId, contract.symbol, contract.secType, '@', contract.exchange, ':', order.action,\n",
    "              order.orderType, order.totalQuantity, orderState.status)\n",
    "\n",
    "    def execDetails(self, reqId, contract, execution):\n",
    "        print('Order Executed: ', reqId, contract.symbol, contract.secType, contract.currency, execution.execId,\n",
    "              execution.orderId, execution.shares, execution.lastLiquidity)\n",
    "\n",
    "    # def updateAccountValue(self, key:str, val:str, currency:str,\n",
    "    #                         accountName:str):\n",
    "\n",
    "    def accountSummary(self, reqId: int, account: str, tag: str, value: str, currency: str):\n",
    "        super().accountSummary(reqId, account, tag, value, currency)\n",
    "        print(\"AccountSummary. ReqId:\", reqId, \"Account:\", account, \"Tag: \", tag, \"Value:\", value, \"Currency:\",\n",
    "              currency)\n",
    "\n",
    "    def accountSummaryEnd(self, reqId: int):\n",
    "        super().accountSummaryEnd(reqId)\n",
    "        print(\"AccountSummaryEnd. ReqId:\", reqId)\n"
   ],
   "metadata": {
    "collapsed": false,
    "pycharm": {
     "name": "#%%\n"
    }
   }
  },
  {
   "cell_type": "code",
   "execution_count": null,
   "outputs": [],
   "source": [
    "app = IBapi()\n",
    "app.connect('127.0.0.1', 7497, 10645)\n",
    "\n",
    "\n",
    "def run_loop():\n",
    "    app.run()"
   ],
   "metadata": {
    "collapsed": false,
    "pycharm": {
     "name": "#%%\n"
    }
   }
  },
  {
   "cell_type": "code",
   "execution_count": null,
   "outputs": [],
   "source": [
    "reqId_serial = 1"
   ],
   "metadata": {
    "collapsed": false,
    "pycharm": {
     "name": "#%%\n"
    }
   }
  },
  {
   "cell_type": "code",
   "execution_count": null,
   "outputs": [],
   "source": [
    "# Start the socket in a thread\n",
    "api_thread = threading.Thread(target=run_loop, daemon=True)\n",
    "api_thread.start()\n",
    "time.sleep(1)  # Sleep interval to allow time for connection to server"
   ],
   "metadata": {
    "collapsed": false,
    "pycharm": {
     "name": "#%%\n"
    }
   }
  },
  {
   "cell_type": "code",
   "execution_count": null,
   "outputs": [],
   "source": [
    "def create_contract(curr1, curr2):\n",
    "    # Create contract object\n",
    "    contract = Contract()\n",
    "    contract.symbol = curr1\n",
    "    contract.secType = 'CASH'\n",
    "    contract.exchange = 'IDEALPRO'\n",
    "    contract.currency = curr2\n",
    "    return contract"
   ],
   "metadata": {
    "collapsed": false,
    "pycharm": {
     "name": "#%%\n"
    }
   }
  },
  {
   "cell_type": "code",
   "execution_count": null,
   "outputs": [],
   "source": [
    "EUR_USD_contract = create_contract('EUR', 'USD')"
   ],
   "metadata": {
    "collapsed": false,
    "pycharm": {
     "name": "#%%\n"
    }
   }
  },
  {
   "cell_type": "code",
   "execution_count": null,
   "outputs": [],
   "source": [
    "# Request historical candles\n",
    "app.reqHistoricalData(reqId=1, contract=EUR_USD_contract, endDateTime='', durationStr='1 D', barSizeSetting='1 day',\n",
    "                      whatToShow='MIDPOINT', useRTH=0, formatDate=1, keepUpToDate=False, chartOptions=[])\n",
    "time.sleep(2)  # sleep to allow enough time for data to be returned"
   ],
   "metadata": {
    "collapsed": false,
    "pycharm": {
     "name": "#%%\n"
    }
   }
  },
  {
   "cell_type": "code",
   "execution_count": null,
   "outputs": [],
   "source": [
    "df = pandas.DataFrame(app.data, columns=['reqId', 'DateTime', 'Close'])"
   ],
   "metadata": {
    "collapsed": false,
    "pycharm": {
     "name": "#%%\n"
    }
   }
  },
  {
   "cell_type": "code",
   "execution_count": null,
   "outputs": [],
   "source": [
    "df['DateTime'] = [datetime.strptime(dt, '%Y%m%d') for dt in df['DateTime']]"
   ],
   "metadata": {
    "collapsed": false,
    "pycharm": {
     "name": "#%%\n"
    }
   }
  },
  {
   "cell_type": "code",
   "execution_count": null,
   "outputs": [],
   "source": [
    "df"
   ],
   "metadata": {
    "collapsed": false,
    "pycharm": {
     "name": "#%%\n"
    }
   }
  },
  {
   "cell_type": "markdown",
   "source": [],
   "metadata": {
    "collapsed": false,
    "pycharm": {
     "name": "#%% md\n"
    }
   }
  },
  {
   "cell_type": "code",
   "execution_count": null,
   "outputs": [],
   "source": [
    "def request_data(contract):\n",
    "    global reqId_serial\n",
    "    reqId_serial += 1\n",
    "    app.reqHistoricalData(reqId=reqId_serial, contract=contract, endDateTime='', durationStr='1 D',\n",
    "                          barSizeSetting='1 day',\n",
    "                          whatToShow='MIDPOINT', useRTH=0, formatDate=1, keepUpToDate=False, chartOptions=[])\n",
    "    time.sleep(0.5)\n",
    "    if app.data[len(app.data) - 1][0] != reqId_serial:\n",
    "        return float('NaN')\n",
    "    else:\n",
    "        return app.data[len(app.data) - 1][2]"
   ],
   "metadata": {
    "collapsed": false,
    "pycharm": {
     "name": "#%%\n"
    }
   }
  },
  {
   "cell_type": "code",
   "execution_count": null,
   "outputs": [],
   "source": [
    "print(request_data(EUR_USD_contract))"
   ],
   "metadata": {
    "collapsed": false,
    "pycharm": {
     "name": "#%%\n"
    }
   }
  },
  {
   "cell_type": "code",
   "execution_count": null,
   "outputs": [],
   "source": [
    "def fetch_exc_rate(base, quote):\n",
    "    contract = create_contract(base, quote)\n",
    "    return request_data(contract)"
   ],
   "metadata": {
    "collapsed": false,
    "pycharm": {
     "name": "#%%\n"
    }
   }
  },
  {
   "cell_type": "code",
   "execution_count": null,
   "outputs": [],
   "source": [
    "currencies = ['USD', 'EUR', 'GBP', 'JPY', 'AUD']"
   ],
   "metadata": {
    "collapsed": false,
    "pycharm": {
     "name": "#%%\n"
    }
   }
  },
  {
   "cell_type": "code",
   "execution_count": null,
   "outputs": [],
   "source": [
    "def fetch_all(curr_list):\n",
    "    matrix = DataFrame(columns=curr_list, index=curr_list)\n",
    "    for i in range(0, len(curr_list)):\n",
    "        for j in range(0, len(curr_list)):\n",
    "            if i == j:\n",
    "                matrix[curr_list[i]][curr_list[j]] = 1\n",
    "            else:\n",
    "                matrix[curr_list[i]][curr_list[j]] = fetch_exc_rate(curr_list[i], curr_list[j])\n",
    "    return matrix"
   ],
   "metadata": {
    "collapsed": false,
    "pycharm": {
     "name": "#%%\n"
    }
   }
  },
  {
   "cell_type": "code",
   "execution_count": null,
   "outputs": [],
   "source": [
    "exchange_rates = fetch_all(currencies)"
   ],
   "metadata": {
    "collapsed": false,
    "pycharm": {
     "name": "#%%\n"
    }
   }
  },
  {
   "cell_type": "code",
   "execution_count": null,
   "outputs": [],
   "source": [
    "def fill_in_nan(matrix):\n",
    "    for col in matrix.columns:\n",
    "        for row in matrix.index:\n",
    "            if isnan(matrix[col][row]) & (not isnan(matrix[row][col])):\n",
    "                matrix[col][row] = 1 / matrix[row][col]\n",
    "    return matrix"
   ],
   "metadata": {
    "collapsed": false,
    "pycharm": {
     "name": "#%%\n"
    }
   }
  },
  {
   "cell_type": "code",
   "execution_count": null,
   "outputs": [],
   "source": [
    "def check_all_data(matrix):\n",
    "    return not matrix.isnull().values.any()\n"
   ],
   "metadata": {
    "collapsed": false,
    "pycharm": {
     "name": "#%%\n"
    }
   }
  },
  {
   "cell_type": "code",
   "execution_count": null,
   "outputs": [],
   "source": [
    "exchange_rates = fill_in_nan(exchange_rates)"
   ],
   "metadata": {
    "collapsed": false,
    "pycharm": {
     "name": "#%%\n"
    }
   }
  },
  {
   "cell_type": "code",
   "execution_count": null,
   "outputs": [],
   "source": [],
   "metadata": {
    "collapsed": false,
    "pycharm": {
     "name": "#%%\n"
    }
   }
  },
  {
   "cell_type": "code",
   "execution_count": null,
   "outputs": [],
   "source": [
    "check_all_data(exchange_rates)"
   ],
   "metadata": {
    "collapsed": false,
    "pycharm": {
     "name": "#%%\n"
    }
   }
  },
  {
   "cell_type": "code",
   "execution_count": null,
   "outputs": [],
   "source": [
    "exchange_rates"
   ],
   "metadata": {
    "collapsed": false,
    "pycharm": {
     "name": "#%%\n"
    }
   }
  },
  {
   "cell_type": "code",
   "execution_count": null,
   "outputs": [],
   "source": [
    "def check_arbitrage(result_dict, matrix, curr1, curr2, curr3):\n",
    "    arbitrage_amount = matrix[curr1][curr2] * matrix[curr2][curr3] * matrix[curr3][curr1] - 1\n",
    "    result_dict[curr1 + '.' + curr2 + '.' + curr3] = arbitrage_amount\n",
    "    arbitrage_amount_rev = matrix[curr1][curr3] * matrix[curr3][curr2] * matrix[curr2][curr1] - 1\n",
    "    result_dict[curr1 + '.' + curr3 + '.' + curr2] = arbitrage_amount_rev\n",
    "    print(curr1 + '->' + curr2 + '->' + curr3 + '->' + curr1 + ': ' + \"{:.6f}\".format(arbitrage_amount))\n",
    "    print(curr1 + '->' + curr3 + '->' + curr2 + '->' + curr1 + ': ' + \"{:.6f}\".format(arbitrage_amount_rev))\n",
    "    return arbitrage_amount"
   ],
   "metadata": {
    "collapsed": false,
    "pycharm": {
     "name": "#%%\n"
    }
   }
  },
  {
   "cell_type": "code",
   "execution_count": null,
   "outputs": [],
   "source": [
    "def check_all_arbitrage(result_dict, matrix, currency_list):\n",
    "    for i in range(0, len(currency_list)):\n",
    "        for j in range(i + 1, len(currency_list)):\n",
    "            for k in range(j + 1, len(currency_list)):\n",
    "                check_arbitrage(result_dict, matrix, currency_list[i], currency_list[j], currency_list[k])\n",
    "    return result_dict"
   ],
   "metadata": {
    "collapsed": false,
    "pycharm": {
     "name": "#%%\n"
    }
   }
  },
  {
   "cell_type": "code",
   "execution_count": null,
   "outputs": [],
   "source": [
    "results = dict()\n",
    "results = check_all_arbitrage(results, exchange_rates, currencies)"
   ],
   "metadata": {
    "collapsed": false,
    "pycharm": {
     "name": "#%%\n"
    }
   }
  },
  {
   "cell_type": "code",
   "execution_count": null,
   "outputs": [],
   "source": [
    "max_path = max(results, key=results.get)"
   ],
   "metadata": {
    "collapsed": false,
    "pycharm": {
     "name": "#%%\n"
    }
   }
  },
  {
   "cell_type": "code",
   "execution_count": null,
   "outputs": [],
   "source": [
    "def FX_order_contract(curr1, curr2):\n",
    "    contract = Contract()\n",
    "    contract.symbol = curr1\n",
    "    contract.secType = 'CASH'\n",
    "    contract.exchange = 'IDEALPRO'\n",
    "    contract.currency = curr2\n",
    "    return contract\n"
   ],
   "metadata": {
    "collapsed": false,
    "pycharm": {
     "name": "#%%\n"
    }
   }
  },
  {
   "cell_type": "code",
   "execution_count": null,
   "outputs": [],
   "source": [
    "def create_order(quantity, action='BUY', orderType='MKT', lmtPrice=None):\n",
    "    order = Order()\n",
    "    order.action = action\n",
    "    order.totalQuantity = quantity\n",
    "    order.orderType = orderType\n",
    "    if orderType == 'LMT' and lmtPrice is not None:\n",
    "        order.lmtPrice = lmtPrice\n",
    "    return order"
   ],
   "metadata": {
    "collapsed": false,
    "pycharm": {
     "name": "#%%\n"
    }
   }
  },
  {
   "cell_type": "code",
   "execution_count": null,
   "outputs": [],
   "source": [
    "usd_eur_order = create_order(100000, 'BUY', 'MKT')\n",
    "usd_eur_contract = FX_order_contract('USD', 'EUR')\n",
    "app.placeOrder(app.nextValidId, usd_eur_contract, usd_eur_order)"
   ],
   "metadata": {
    "collapsed": false,
    "pycharm": {
     "name": "#%%\n"
    }
   }
  },
  {
   "cell_type": "code",
   "execution_count": null,
   "outputs": [],
   "source": [
    "order = Order\n",
    "order.action = 'BUY'\n",
    "order.totalQuantity = 100000\n",
    "order.orderType = 'MKT'\n",
    "order.lmtPrice = 1.10\n",
    "\n",
    "app.placeOrder(app.nextValidId, usd_eur_contract, order)"
   ],
   "metadata": {
    "collapsed": false,
    "pycharm": {
     "name": "#%%\n"
    }
   }
  },
  {
   "cell_type": "code",
   "execution_count": null,
   "outputs": [],
   "source": [
    "app.reqAccountSummary(2, 'All', AccountSummaryTags.AllTags)\n",
    "time.sleep(1)"
   ],
   "metadata": {
    "collapsed": false,
    "pycharm": {
     "name": "#%%\n"
    }
   }
  },
  {
   "cell_type": "code",
   "execution_count": 13,
   "outputs": [
    {
     "name": "stdout",
     "output_type": "stream",
     "text": [
      "AccountSummary. ReqId: 2 Account: DU5016513 Tag:  AccountType Value: INDIVIDUAL Currency: \n",
      "AccountSummary. ReqId: 2 Account: DU5016513 Tag:  Cushion Value: 1 Currency: \n",
      "AccountSummary. ReqId: 2 Account: DU5016513 Tag:  DayTradesRemaining Value: -1 Currency: \n",
      "AccountSummary. ReqId: 2 Account: DU5016513 Tag:  LookAheadNextChange Value: 0 Currency: \n",
      "AccountSummary. ReqId: 2 Account: DU5016513 Tag:  AccruedCash Value: 0.00 Currency: USD\n",
      "AccountSummary. ReqId: 2 Account: DU5016513 Tag:  AvailableFunds Value: 1000000.00 Currency: USD\n",
      "AccountSummary. ReqId: 2 Account: DU5016513 Tag:  BuyingPower Value: 4000000.00 Currency: USD\n",
      "AccountSummary. ReqId: 2 Account: DU5016513 Tag:  EquityWithLoanValue Value: 1000000.00 Currency: USD\n",
      "AccountSummary. ReqId: 2 Account: DU5016513 Tag:  ExcessLiquidity Value: 1000000.00 Currency: USD\n",
      "AccountSummary. ReqId: 2 Account: DU5016513 Tag:  FullAvailableFunds Value: 1000000.00 Currency: USD\n",
      "AccountSummary. ReqId: 2 Account: DU5016513 Tag:  FullExcessLiquidity Value: 1000000.00 Currency: USD\n",
      "AccountSummary. ReqId: 2 Account: DU5016513 Tag:  FullInitMarginReq Value: 0.00 Currency: USD\n",
      "AccountSummary. ReqId: 2 Account: DU5016513 Tag:  FullMaintMarginReq Value: 0.00 Currency: USD\n",
      "AccountSummary. ReqId: 2 Account: DU5016513 Tag:  GrossPositionValue Value: 0.00 Currency: USD\n",
      "AccountSummary. ReqId: 2 Account: DU5016513 Tag:  InitMarginReq Value: 0.00 Currency: USD\n",
      "AccountSummary. ReqId: 2 Account: DU5016513 Tag:  LookAheadAvailableFunds Value: 1000000.00 Currency: USD\n",
      "AccountSummary. ReqId: 2 Account: DU5016513 Tag:  LookAheadExcessLiquidity Value: 1000000.00 Currency: USD\n",
      "AccountSummary. ReqId: 2 Account: DU5016513 Tag:  LookAheadInitMarginReq Value: 0.00 Currency: USD\n",
      "AccountSummary. ReqId: 2 Account: DU5016513 Tag:  LookAheadMaintMarginReq Value: 0.00 Currency: USD\n",
      "AccountSummary. ReqId: 2 Account: DU5016513 Tag:  MaintMarginReq Value: 0.00 Currency: USD\n",
      "AccountSummary. ReqId: 2 Account: DU5016513 Tag:  NetLiquidation Value: 1000000.00 Currency: USD\n",
      "AccountSummary. ReqId: 2 Account: DU5016513 Tag:  SMA Value: 1000000.00 Currency: USD\n",
      "AccountSummary. ReqId: 2 Account: DU5016513 Tag:  TotalCashValue Value: 1000000.00 Currency: USD\n",
      "AccountSummaryEnd. ReqId: 2\n"
     ]
    }
   ],
   "source": [
    "app.reqAccountSummary(2, 'All', AccountSummaryTags.AllTags)\n",
    "time.sleep(1)"
   ],
   "metadata": {
    "collapsed": false,
    "pycharm": {
     "name": "#%%\n"
    }
   }
  },
  {
   "cell_type": "code",
   "execution_count": null,
   "outputs": [],
   "source": [],
   "metadata": {
    "collapsed": false,
    "pycharm": {
     "name": "#%%\n"
    }
   }
  }
 ],
 "metadata": {
  "kernelspec": {
   "display_name": "Python 3",
   "language": "python",
   "name": "python3"
  },
  "language_info": {
   "codemirror_mode": {
    "name": "ipython",
    "version": 2
   },
   "file_extension": ".py",
   "mimetype": "text/x-python",
   "name": "python",
   "nbconvert_exporter": "python",
   "pygments_lexer": "ipython2",
   "version": "2.7.6"
  }
 },
 "nbformat": 4,
 "nbformat_minor": 0
}