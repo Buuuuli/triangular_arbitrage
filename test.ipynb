{
 "cells": [
  {
   "cell_type": "code",
   "execution_count": 12,
   "outputs": [],
   "source": [
    "from ibapi.client import EClient\n",
    "from ibapi.wrapper import EWrapper\n",
    "from ibapi.contract import Contract\n",
    "from ibapi.order import Order\n",
    "from datetime import datetime\n",
    "from math import isnan\n",
    "\n",
    "import threading\n",
    "import time\n",
    "import pandas\n",
    "from pandas import DataFrame"
   ],
   "metadata": {
    "collapsed": false,
    "pycharm": {
     "name": "#%%\n"
    }
   }
  },
  {
   "cell_type": "code",
   "execution_count": 13,
   "outputs": [],
   "source": [
    "class IBapi(EWrapper, EClient):\n",
    "    def __init__(self):\n",
    "        EClient.__init__(self, self)\n",
    "        self.data = []  # Initialize variable to store candle\n",
    "        self.nextorderId = None\n",
    "\n",
    "    def historicalData(self, reqId, bar):\n",
    "        print(f'reqId: {reqId} Time: {bar.date} Close: {bar.close}')\n",
    "        self.data.append([reqId, bar.date, bar.close])\n",
    "\n",
    "    def nextValidId(self, orderId: int):\n",
    "        super().nextValidId(orderId)\n",
    "        self.nextorderId = orderId\n",
    "        print('The next valid order id is: ', self.nextorderId)\n",
    "\n",
    "    def orderStatus(self, orderId, status, filled, remaining, avgFullPrice, permId, parentId, lastFillPrice, clientId,\n",
    "                    whyHeld, mktCapPrice):\n",
    "        print('orderStatus - orderid:', orderId, 'status:', status, 'filled', filled, 'remaining', remaining,\n",
    "              'lastFillPrice', lastFillPrice)\n",
    "\n",
    "    def openOrder(self, orderId, contract, order, orderState):\n",
    "        print('openOrder id:', orderId, contract.symbol, contract.secType, '@', contract.exchange, ':', order.action,\n",
    "              order.orderType, order.totalQuantity, orderState.status)\n",
    "\n",
    "    def execDetails(self, reqId, contract, execution):\n",
    "        print('Order Executed: ', reqId, contract.symbol, contract.secType, contract.currency, execution.execId,\n",
    "              execution.orderId, execution.shares, execution.lastLiquidity)\n",
    "    # def updateAccountValue(self, key:str, val:str, currency:str,\n",
    "    #                         accountName:str):\n",
    "    def accountSummary(self, reqId:int, account:str, tag:str, value:str,\n",
    "                       currency:str):\n",
    "        print(f'Account summary: account[{account}], value[{value}], currency[{currency}]')\n"
   ],
   "metadata": {
    "collapsed": false,
    "pycharm": {
     "name": "#%%\n"
    }
   }
  },
  {
   "cell_type": "code",
   "execution_count": 14,
   "outputs": [],
   "source": [
    "app = IBapi()\n",
    "app.connect('127.0.0.1', 7497, 10645)\n",
    "\n",
    "\n",
    "def run_loop():\n",
    "    app.run()"
   ],
   "metadata": {
    "collapsed": false,
    "pycharm": {
     "name": "#%%\n"
    }
   }
  },
  {
   "cell_type": "code",
   "execution_count": 15,
   "outputs": [],
   "source": [
    "reqId_serial = 1"
   ],
   "metadata": {
    "collapsed": false,
    "pycharm": {
     "name": "#%%\n"
    }
   }
  },
  {
   "cell_type": "code",
   "execution_count": 16,
   "outputs": [
    {
     "name": "stderr",
     "output_type": "stream",
     "text": [
      "ERROR -1 2104 Market data farm connection is OK:cafarm\n",
      "ERROR -1 2104 Market data farm connection is OK:hfarm\n",
      "ERROR -1 2104 Market data farm connection is OK:eufarmnj\n",
      "ERROR -1 2104 Market data farm connection is OK:cashfarm\n",
      "ERROR -1 2104 Market data farm connection is OK:uscrypto\n",
      "ERROR -1 2104 Market data farm connection is OK:usfuture\n",
      "ERROR -1 2104 Market data farm connection is OK:afarm\n",
      "ERROR -1 2104 Market data farm connection is OK:jfarm\n",
      "ERROR -1 2104 Market data farm connection is OK:usfarm.nj\n",
      "ERROR -1 2104 Market data farm connection is OK:eufarm\n",
      "ERROR -1 2104 Market data farm connection is OK:usfarm\n",
      "ERROR -1 2106 HMDS data farm connection is OK:euhmds\n",
      "ERROR -1 2106 HMDS data farm connection is OK:cashhmds\n",
      "ERROR -1 2106 HMDS data farm connection is OK:fundfarm\n",
      "ERROR -1 2106 HMDS data farm connection is OK:ushmds\n",
      "ERROR -1 2158 Sec-def data farm connection is OK:secdefil\n"
     ]
    },
    {
     "name": "stdout",
     "output_type": "stream",
     "text": [
      "The next valid order id is:  1\n"
     ]
    }
   ],
   "source": [
    "# Start the socket in a thread\n",
    "api_thread = threading.Thread(target=run_loop, daemon=True)\n",
    "api_thread.start()\n",
    "time.sleep(1)  # Sleep interval to allow time for connection to server"
   ],
   "metadata": {
    "collapsed": false,
    "pycharm": {
     "name": "#%%\n"
    }
   }
  },
  {
   "cell_type": "code",
   "execution_count": 17,
   "outputs": [],
   "source": [
    "def create_contract(curr1, curr2):\n",
    "    # Create contract object\n",
    "    contract = Contract()\n",
    "    contract.symbol = curr1\n",
    "    contract.secType = 'CASH'\n",
    "    contract.exchange = 'IDEALPRO'\n",
    "    contract.currency = curr2\n",
    "    return contract"
   ],
   "metadata": {
    "collapsed": false,
    "pycharm": {
     "name": "#%%\n"
    }
   }
  },
  {
   "cell_type": "code",
   "execution_count": 18,
   "outputs": [],
   "source": [
    "EUR_USD_contract = create_contract('EUR', 'USD')"
   ],
   "metadata": {
    "collapsed": false,
    "pycharm": {
     "name": "#%%\n"
    }
   }
  },
  {
   "cell_type": "code",
   "execution_count": 19,
   "outputs": [
    {
     "name": "stdout",
     "output_type": "stream",
     "text": [
      "reqId: 1 Time: 20220422 Close: 1.07975\n"
     ]
    }
   ],
   "source": [
    "# Request historical candles\n",
    "app.reqHistoricalData(reqId=1, contract=EUR_USD_contract, endDateTime='', durationStr='1 D', barSizeSetting='1 day',\n",
    "                      whatToShow='MIDPOINT', useRTH=0, formatDate=1, keepUpToDate=False, chartOptions=[])\n",
    "time.sleep(2)  # sleep to allow enough time for data to be returned"
   ],
   "metadata": {
    "collapsed": false,
    "pycharm": {
     "name": "#%%\n"
    }
   }
  },
  {
   "cell_type": "code",
   "execution_count": 20,
   "outputs": [],
   "source": [
    "df = pandas.DataFrame(app.data, columns=['reqId', 'DateTime', 'Close'])"
   ],
   "metadata": {
    "collapsed": false,
    "pycharm": {
     "name": "#%%\n"
    }
   }
  },
  {
   "cell_type": "code",
   "execution_count": 21,
   "outputs": [],
   "source": [
    "df['DateTime'] = [datetime.strptime(dt, '%Y%m%d') for dt in df['DateTime']]"
   ],
   "metadata": {
    "collapsed": false,
    "pycharm": {
     "name": "#%%\n"
    }
   }
  },
  {
   "cell_type": "code",
   "execution_count": 22,
   "outputs": [
    {
     "data": {
      "text/plain": "   reqId   DateTime    Close\n0      1 2022-04-22  1.07975",
      "text/html": "<div>\n<style scoped>\n    .dataframe tbody tr th:only-of-type {\n        vertical-align: middle;\n    }\n\n    .dataframe tbody tr th {\n        vertical-align: top;\n    }\n\n    .dataframe thead th {\n        text-align: right;\n    }\n</style>\n<table border=\"1\" class=\"dataframe\">\n  <thead>\n    <tr style=\"text-align: right;\">\n      <th></th>\n      <th>reqId</th>\n      <th>DateTime</th>\n      <th>Close</th>\n    </tr>\n  </thead>\n  <tbody>\n    <tr>\n      <th>0</th>\n      <td>1</td>\n      <td>2022-04-22</td>\n      <td>1.07975</td>\n    </tr>\n  </tbody>\n</table>\n</div>"
     },
     "execution_count": 22,
     "metadata": {},
     "output_type": "execute_result"
    }
   ],
   "source": [
    "df"
   ],
   "metadata": {
    "collapsed": false,
    "pycharm": {
     "name": "#%%\n"
    }
   }
  },
  {
   "cell_type": "markdown",
   "source": [],
   "metadata": {
    "collapsed": false,
    "pycharm": {
     "name": "#%% md\n"
    }
   }
  },
  {
   "cell_type": "code",
   "execution_count": 23,
   "outputs": [],
   "source": [
    "def request_data(contract):\n",
    "    global reqId_serial\n",
    "    reqId_serial += 1\n",
    "    app.reqHistoricalData(reqId=reqId_serial, contract=contract, endDateTime='', durationStr='1 D',\n",
    "                          barSizeSetting='1 day',\n",
    "                          whatToShow='MIDPOINT', useRTH=0, formatDate=1, keepUpToDate=False, chartOptions=[])\n",
    "    time.sleep(0.5)\n",
    "    if app.data[len(app.data) - 1][0] != reqId_serial:\n",
    "        return float('NaN')\n",
    "    else:\n",
    "        return app.data[len(app.data) - 1][2]"
   ],
   "metadata": {
    "collapsed": false,
    "pycharm": {
     "name": "#%%\n"
    }
   }
  },
  {
   "cell_type": "code",
   "execution_count": 24,
   "outputs": [
    {
     "name": "stdout",
     "output_type": "stream",
     "text": [
      "reqId: 2 Time: 20220422 Close: 1.07975\n",
      "1.07975\n"
     ]
    }
   ],
   "source": [
    "print(request_data(EUR_USD_contract))"
   ],
   "metadata": {
    "collapsed": false,
    "pycharm": {
     "name": "#%%\n"
    }
   }
  },
  {
   "cell_type": "code",
   "execution_count": 25,
   "outputs": [],
   "source": [
    "def fetch_exc_rate(base, quote):\n",
    "    contract = create_contract(base, quote)\n",
    "    return request_data(contract)"
   ],
   "metadata": {
    "collapsed": false,
    "pycharm": {
     "name": "#%%\n"
    }
   }
  },
  {
   "cell_type": "code",
   "execution_count": 26,
   "outputs": [],
   "source": [
    "currencies = ['USD', 'EUR', 'GBP', 'JPY', 'AUD']"
   ],
   "metadata": {
    "collapsed": false,
    "pycharm": {
     "name": "#%%\n"
    }
   }
  },
  {
   "cell_type": "code",
   "execution_count": 27,
   "outputs": [],
   "source": [
    "def fetch_all(curr_list):\n",
    "    matrix = DataFrame(columns=curr_list, index=curr_list)\n",
    "    for i in range(0, len(curr_list)):\n",
    "        for j in range(0, len(curr_list)):\n",
    "            if i == j:\n",
    "                matrix[curr_list[i]][curr_list[j]] = 1\n",
    "            else:\n",
    "                matrix[curr_list[i]][curr_list[j]] = fetch_exc_rate(curr_list[i], curr_list[j])\n",
    "    return matrix"
   ],
   "metadata": {
    "collapsed": false,
    "pycharm": {
     "name": "#%%\n"
    }
   }
  },
  {
   "cell_type": "code",
   "execution_count": 28,
   "outputs": [
    {
     "name": "stderr",
     "output_type": "stream",
     "text": [
      "ERROR 3 200 No security definition has been found for the request\n",
      "ERROR 4 200 No security definition has been found for the request\n"
     ]
    },
    {
     "name": "stdout",
     "output_type": "stream",
     "text": [
      "reqId: 5 Time: 20220422 Close: 128.4825\n"
     ]
    },
    {
     "name": "stderr",
     "output_type": "stream",
     "text": [
      "ERROR 6 200 No security definition has been found for the request\n"
     ]
    },
    {
     "name": "stdout",
     "output_type": "stream",
     "text": [
      "reqId: 7 Time: 20220422 Close: 1.07975\n",
      "reqId: 8 Time: 20220422 Close: 0.84125\n",
      "reqId: 9 Time: 20220422 Close: 138.771\n",
      "reqId: 10 Time: 20220422 Close: 1.49105\n"
     ]
    },
    {
     "name": "stderr",
     "output_type": "stream",
     "text": [
      "ERROR 12 200 No security definition has been found for the request\n",
      "ERROR 15 200 No security definition has been found for the request\n",
      "ERROR 16 200 No security definition has been found for the request\n",
      "ERROR 17 200 No security definition has been found for the request\n",
      "ERROR 18 200 No security definition has been found for the request\n"
     ]
    },
    {
     "name": "stdout",
     "output_type": "stream",
     "text": [
      "reqId: 11 Time: 20220422 Close: 1.28395\n",
      "reqId: 13 Time: 20220422 Close: 165.0055\n",
      "reqId: 14 Time: 20220422 Close: 1.77185\n",
      "reqId: 19 Time: 20220422 Close: 0.724\n"
     ]
    },
    {
     "name": "stderr",
     "output_type": "stream",
     "text": [
      "ERROR 20 200 No security definition has been found for the request\n",
      "ERROR 21 200 No security definition has been found for the request\n"
     ]
    },
    {
     "name": "stdout",
     "output_type": "stream",
     "text": [
      "reqId: 22 Time: 20220422 Close: 93.0875\n"
     ]
    }
   ],
   "source": [
    "exchange_rates = fetch_all(currencies)"
   ],
   "metadata": {
    "collapsed": false,
    "pycharm": {
     "name": "#%%\n"
    }
   }
  },
  {
   "cell_type": "code",
   "execution_count": 19,
   "outputs": [],
   "source": [
    "def fill_in_nan(matrix):\n",
    "    for col in matrix.columns:\n",
    "        for row in matrix.index:\n",
    "            if isnan(matrix[col][row]) & (not isnan(matrix[row][col])):\n",
    "                matrix[col][row] = 1 / matrix[row][col]\n",
    "    return matrix"
   ],
   "metadata": {
    "collapsed": false,
    "pycharm": {
     "name": "#%%\n"
    }
   }
  },
  {
   "cell_type": "code",
   "execution_count": 59,
   "outputs": [],
   "source": [
    "def check_all_data(matrix):\n",
    "    return not matrix.isnull().values.any()\n"
   ],
   "metadata": {
    "collapsed": false,
    "pycharm": {
     "name": "#%%\n"
    }
   }
  },
  {
   "cell_type": "code",
   "execution_count": 57,
   "outputs": [],
   "source": [
    "exchange_rates = fill_in_nan(exchange_rates)"
   ],
   "metadata": {
    "collapsed": false,
    "pycharm": {
     "name": "#%%\n"
    }
   }
  },
  {
   "cell_type": "code",
   "execution_count": null,
   "outputs": [],
   "source": [],
   "metadata": {
    "collapsed": false,
    "pycharm": {
     "name": "#%%\n"
    }
   }
  },
  {
   "cell_type": "code",
   "execution_count": 60,
   "outputs": [
    {
     "data": {
      "text/plain": "True"
     },
     "execution_count": 60,
     "metadata": {},
     "output_type": "execute_result"
    }
   ],
   "source": [
    "check_all_data(exchange_rates)"
   ],
   "metadata": {
    "collapsed": false,
    "pycharm": {
     "name": "#%%\n"
    }
   }
  },
  {
   "cell_type": "code",
   "execution_count": 61,
   "outputs": [
    {
     "data": {
      "text/plain": "          USD       EUR       GBP       JPY       AUD\nUSD         1   1.07875    1.2827  0.007777   0.72385\nEUR  0.926999         1  1.189061  0.007209  0.670961\nGBP  0.779606     0.841         1  0.006063  0.564318\nJPY  128.5795  138.7225  164.9465         1    93.076\nAUD  1.381502    1.4904   1.77205  0.010744         1",
      "text/html": "<div>\n<style scoped>\n    .dataframe tbody tr th:only-of-type {\n        vertical-align: middle;\n    }\n\n    .dataframe tbody tr th {\n        vertical-align: top;\n    }\n\n    .dataframe thead th {\n        text-align: right;\n    }\n</style>\n<table border=\"1\" class=\"dataframe\">\n  <thead>\n    <tr style=\"text-align: right;\">\n      <th></th>\n      <th>USD</th>\n      <th>EUR</th>\n      <th>GBP</th>\n      <th>JPY</th>\n      <th>AUD</th>\n    </tr>\n  </thead>\n  <tbody>\n    <tr>\n      <th>USD</th>\n      <td>1</td>\n      <td>1.07875</td>\n      <td>1.2827</td>\n      <td>0.007777</td>\n      <td>0.72385</td>\n    </tr>\n    <tr>\n      <th>EUR</th>\n      <td>0.926999</td>\n      <td>1</td>\n      <td>1.189061</td>\n      <td>0.007209</td>\n      <td>0.670961</td>\n    </tr>\n    <tr>\n      <th>GBP</th>\n      <td>0.779606</td>\n      <td>0.841</td>\n      <td>1</td>\n      <td>0.006063</td>\n      <td>0.564318</td>\n    </tr>\n    <tr>\n      <th>JPY</th>\n      <td>128.5795</td>\n      <td>138.7225</td>\n      <td>164.9465</td>\n      <td>1</td>\n      <td>93.076</td>\n    </tr>\n    <tr>\n      <th>AUD</th>\n      <td>1.381502</td>\n      <td>1.4904</td>\n      <td>1.77205</td>\n      <td>0.010744</td>\n      <td>1</td>\n    </tr>\n  </tbody>\n</table>\n</div>"
     },
     "execution_count": 61,
     "metadata": {},
     "output_type": "execute_result"
    }
   ],
   "source": [
    "exchange_rates"
   ],
   "metadata": {
    "collapsed": false,
    "pycharm": {
     "name": "#%%\n"
    }
   }
  },
  {
   "cell_type": "code",
   "execution_count": 62,
   "outputs": [],
   "source": [
    "def check_arbitrage(result_dict, matrix, curr1, curr2, curr3):\n",
    "    arbitrage_amount = matrix[curr1][curr2] * matrix[curr2][curr3] * matrix[curr3][curr1] - 1\n",
    "    result_dict[curr1 + '.' + curr2 + '.' + curr3] = arbitrage_amount\n",
    "    arbitrage_amount_rev = matrix[curr1][curr3] * matrix[curr3][curr2] * matrix[curr2][curr1] - 1\n",
    "    result_dict[curr1 + '.' + curr3 + '.' + curr2] = arbitrage_amount_rev\n",
    "    print(curr1 + '->' + curr2 + '->' + curr3 + '->' + curr1 + ': ' + \"{:.6f}\".format(arbitrage_amount))\n",
    "    print(curr1 + '->' + curr3 + '->' + curr2 + '->' + curr1 + ': ' + \"{:.6f}\".format(arbitrage_amount_rev))\n",
    "    return arbitrage_amount"
   ],
   "metadata": {
    "collapsed": false,
    "pycharm": {
     "name": "#%%\n"
    }
   }
  },
  {
   "cell_type": "code",
   "execution_count": 63,
   "outputs": [],
   "source": [
    "def check_all_arbitrage(result_dict, matrix, currency_list):\n",
    "    for i in range(0, len(currency_list)):\n",
    "        for j in range(i + 1, len(currency_list)):\n",
    "            for k in range(j + 1, len(currency_list)):\n",
    "                check_arbitrage(result_dict, matrix, currency_list[i], currency_list[j], currency_list[k])\n",
    "    return result_dict"
   ],
   "metadata": {
    "collapsed": false,
    "pycharm": {
     "name": "#%%\n"
    }
   }
  },
  {
   "cell_type": "code",
   "execution_count": 65,
   "outputs": [
    {
     "name": "stdout",
     "output_type": "stream",
     "text": [
      "USD->EUR->GBP->USD: 0.000001\n",
      "USD->GBP->EUR->USD: -0.000001\n",
      "USD->EUR->JPY->USD: 0.000125\n",
      "USD->JPY->EUR->USD: -0.000125\n",
      "USD->EUR->AUD->USD: 0.000070\n",
      "USD->AUD->EUR->USD: -0.000070\n",
      "USD->GBP->JPY->USD: 0.000107\n",
      "USD->JPY->GBP->USD: -0.000107\n",
      "USD->GBP->AUD->USD: -0.000001\n",
      "USD->AUD->GBP->USD: 0.000001\n",
      "USD->JPY->AUD->USD: -0.000040\n",
      "USD->AUD->JPY->USD: 0.000040\n",
      "EUR->GBP->JPY->EUR: -0.000018\n",
      "EUR->JPY->GBP->EUR: 0.000018\n",
      "EUR->GBP->AUD->EUR: -0.000071\n",
      "EUR->AUD->GBP->EUR: 0.000071\n",
      "EUR->JPY->AUD->EUR: 0.000015\n",
      "EUR->AUD->JPY->EUR: -0.000015\n",
      "GBP->JPY->AUD->GBP: 0.000068\n",
      "GBP->AUD->JPY->GBP: -0.000068\n"
     ]
    }
   ],
   "source": [
    "results = dict()\n",
    "results = check_all_arbitrage(results, exchange_rates, currencies)"
   ],
   "metadata": {
    "collapsed": false,
    "pycharm": {
     "name": "#%%\n"
    }
   }
  },
  {
   "cell_type": "code",
   "execution_count": 67,
   "outputs": [
    {
     "data": {
      "text/plain": "'USD.EUR.JPY'"
     },
     "execution_count": 67,
     "metadata": {},
     "output_type": "execute_result"
    }
   ],
   "source": [
    "max_path = max(results, key=results.get)"
   ],
   "metadata": {
    "collapsed": false,
    "pycharm": {
     "name": "#%%\n"
    }
   }
  },
  {
   "cell_type": "code",
   "execution_count": 20,
   "outputs": [],
   "source": [
    "def FX_order_contract(curr1, curr2):\n",
    "\tcontract = Contract()\n",
    "\tcontract.symbol = curr1\n",
    "\tcontract.secType = 'CASH'\n",
    "\tcontract.exchange = 'IDEALPRO'\n",
    "\tcontract.currency = curr2\n",
    "\treturn contract\n"
   ],
   "metadata": {
    "collapsed": false,
    "pycharm": {
     "name": "#%%\n"
    }
   }
  },
  {
   "cell_type": "code",
   "execution_count": 22,
   "outputs": [],
   "source": [
    "def create_order(quantity, action='BUY', orderType='MKT', lmtPrice=None):\n",
    "    order = Order()\n",
    "    order.action = action\n",
    "    order.totalQuantity = quantity\n",
    "    order.orderType = orderType\n",
    "    if orderType == 'LMT' and lmtPrice is not None:\n",
    "        order.lmtPrice = lmtPrice\n",
    "    return order"
   ],
   "metadata": {
    "collapsed": false,
    "pycharm": {
     "name": "#%%\n"
    }
   }
  },
  {
   "cell_type": "code",
   "execution_count": 28,
   "outputs": [
    {
     "ename": "AttributeError",
     "evalue": "'NoneType' object has no attribute 'action'",
     "output_type": "error",
     "traceback": [
      "\u001B[1;31m---------------------------------------------------------------------------\u001B[0m",
      "\u001B[1;31mAttributeError\u001B[0m                            Traceback (most recent call last)",
      "Input \u001B[1;32mIn [28]\u001B[0m, in \u001B[0;36m<cell line: 3>\u001B[1;34m()\u001B[0m\n\u001B[0;32m      1\u001B[0m usd_eur_order \u001B[38;5;241m=\u001B[39m create_order(\u001B[38;5;241m100000\u001B[39m,\u001B[38;5;124m'\u001B[39m\u001B[38;5;124mBUY\u001B[39m\u001B[38;5;124m'\u001B[39m,\u001B[38;5;124m'\u001B[39m\u001B[38;5;124mMKT\u001B[39m\u001B[38;5;124m'\u001B[39m)\n\u001B[0;32m      2\u001B[0m usd_eur_contract \u001B[38;5;241m=\u001B[39m FX_order_contract(\u001B[38;5;124m'\u001B[39m\u001B[38;5;124mUSD\u001B[39m\u001B[38;5;124m'\u001B[39m,\u001B[38;5;124m'\u001B[39m\u001B[38;5;124mEUR\u001B[39m\u001B[38;5;124m'\u001B[39m)\n\u001B[1;32m----> 3\u001B[0m \u001B[43mapp\u001B[49m\u001B[38;5;241;43m.\u001B[39;49m\u001B[43mplaceOrder\u001B[49m\u001B[43m(\u001B[49m\u001B[43mapp\u001B[49m\u001B[38;5;241;43m.\u001B[39;49m\u001B[43mnextValidId\u001B[49m\u001B[43m,\u001B[49m\u001B[43m \u001B[49m\u001B[43musd_eur_contract\u001B[49m\u001B[43m,\u001B[49m\u001B[43m \u001B[49m\u001B[43musd_eur_order\u001B[49m\u001B[43m)\u001B[49m\n",
      "File \u001B[1;32m~\\Desktop\\Code\\Fintech 533\\triangular_arbitrage\\venv\\lib\\site-packages\\ibapi\\client.py:1128\u001B[0m, in \u001B[0;36mEClient.placeOrder\u001B[1;34m(self, orderId, contract, order)\u001B[0m\n\u001B[0;32m   1124\u001B[0m     flds \u001B[38;5;241m+\u001B[39m\u001B[38;5;241m=\u001B[39m [make_field( contract\u001B[38;5;241m.\u001B[39msecIdType),\n\u001B[0;32m   1125\u001B[0m         make_field( contract\u001B[38;5;241m.\u001B[39msecId)]\n\u001B[0;32m   1127\u001B[0m \u001B[38;5;66;03m# send main order fields\u001B[39;00m\n\u001B[1;32m-> 1128\u001B[0m flds\u001B[38;5;241m.\u001B[39mappend(make_field( \u001B[43morder\u001B[49m\u001B[38;5;241;43m.\u001B[39;49m\u001B[43maction\u001B[49m))\n\u001B[0;32m   1130\u001B[0m \u001B[38;5;28;01mif\u001B[39;00m \u001B[38;5;28mself\u001B[39m\u001B[38;5;241m.\u001B[39mserverVersion() \u001B[38;5;241m>\u001B[39m\u001B[38;5;241m=\u001B[39m MIN_SERVER_VER_FRACTIONAL_POSITIONS:\n\u001B[0;32m   1131\u001B[0m     flds\u001B[38;5;241m.\u001B[39mappend(make_field(order\u001B[38;5;241m.\u001B[39mtotalQuantity))\n",
      "\u001B[1;31mAttributeError\u001B[0m: 'NoneType' object has no attribute 'action'"
     ]
    }
   ],
   "source": [
    "usd_eur_order = create_order(100000,'BUY','MKT')\n",
    "usd_eur_contract = FX_order_contract('USD','EUR')\n",
    "app.placeOrder(app.nextValidId, usd_eur_contract, usd_eur_order)"
   ],
   "metadata": {
    "collapsed": false,
    "pycharm": {
     "name": "#%%\n"
    }
   }
  },
  {
   "cell_type": "code",
   "execution_count": 30,
   "outputs": [
    {
     "ename": "AttributeError",
     "evalue": "type object 'Order' has no attribute 'auxPrice'",
     "output_type": "error",
     "traceback": [
      "\u001B[1;31m---------------------------------------------------------------------------\u001B[0m",
      "\u001B[1;31mAttributeError\u001B[0m                            Traceback (most recent call last)",
      "Input \u001B[1;32mIn [30]\u001B[0m, in \u001B[0;36m<cell line: 6>\u001B[1;34m()\u001B[0m\n\u001B[0;32m      4\u001B[0m order\u001B[38;5;241m.\u001B[39morderType \u001B[38;5;241m=\u001B[39m  \u001B[38;5;124m'\u001B[39m\u001B[38;5;124mMKT\u001B[39m\u001B[38;5;124m'\u001B[39m\n\u001B[0;32m      5\u001B[0m order\u001B[38;5;241m.\u001B[39mlmtPrice \u001B[38;5;241m=\u001B[39m \u001B[38;5;241m1.10\u001B[39m\n\u001B[1;32m----> 6\u001B[0m \u001B[43mapp\u001B[49m\u001B[38;5;241;43m.\u001B[39;49m\u001B[43mplaceOrder\u001B[49m\u001B[43m(\u001B[49m\u001B[43mapp\u001B[49m\u001B[38;5;241;43m.\u001B[39;49m\u001B[43mnextValidId\u001B[49m\u001B[43m,\u001B[49m\u001B[43m \u001B[49m\u001B[43musd_eur_contract\u001B[49m\u001B[43m,\u001B[49m\u001B[43m \u001B[49m\u001B[43morder\u001B[49m\u001B[43m)\u001B[49m\n",
      "File \u001B[1;32m~\\Desktop\\Code\\Fintech 533\\triangular_arbitrage\\venv\\lib\\site-packages\\ibapi\\client.py:1145\u001B[0m, in \u001B[0;36mEClient.placeOrder\u001B[1;34m(self, orderId, contract, order)\u001B[0m\n\u001B[0;32m   1142\u001B[0m     flds\u001B[38;5;241m.\u001B[39mappend(make_field(\n\u001B[0;32m   1143\u001B[0m         order\u001B[38;5;241m.\u001B[39mauxPrice \u001B[38;5;28;01mif\u001B[39;00m order\u001B[38;5;241m.\u001B[39mauxPrice \u001B[38;5;241m!=\u001B[39m UNSET_DOUBLE \u001B[38;5;28;01melse\u001B[39;00m \u001B[38;5;241m0\u001B[39m))\n\u001B[0;32m   1144\u001B[0m \u001B[38;5;28;01melse\u001B[39;00m:\n\u001B[1;32m-> 1145\u001B[0m     flds\u001B[38;5;241m.\u001B[39mappend(make_field_handle_empty( \u001B[43morder\u001B[49m\u001B[38;5;241;43m.\u001B[39;49m\u001B[43mauxPrice\u001B[49m))\n\u001B[0;32m   1147\u001B[0m \u001B[38;5;66;03m# send extended order fields\u001B[39;00m\n\u001B[0;32m   1148\u001B[0m     flds \u001B[38;5;241m+\u001B[39m\u001B[38;5;241m=\u001B[39m [make_field( order\u001B[38;5;241m.\u001B[39mtif),\n\u001B[0;32m   1149\u001B[0m     make_field( order\u001B[38;5;241m.\u001B[39mocaGroup),\n\u001B[0;32m   1150\u001B[0m     make_field( order\u001B[38;5;241m.\u001B[39maccount),\n\u001B[1;32m   (...)\u001B[0m\n\u001B[0;32m   1160\u001B[0m     make_field( order\u001B[38;5;241m.\u001B[39moutsideRth),    \u001B[38;5;66;03m# srv v5 and above\u001B[39;00m\n\u001B[0;32m   1161\u001B[0m     make_field( order\u001B[38;5;241m.\u001B[39mhidden)]        \u001B[38;5;66;03m# srv v7 and above\u001B[39;00m\n",
      "\u001B[1;31mAttributeError\u001B[0m: type object 'Order' has no attribute 'auxPrice'"
     ]
    }
   ],
   "source": [
    "order = Order\n",
    "order.action = 'BUY'\n",
    "order.totalQuantity =100000\n",
    "order.orderType =  'MKT'\n",
    "order.lmtPrice = 1.10\n",
    "\n",
    "app.placeOrder(app.nextValidId, usd_eur_contract, order)"
   ],
   "metadata": {
    "collapsed": false,
    "pycharm": {
     "name": "#%%\n"
    }
   }
  },
  {
   "cell_type": "code",
   "execution_count": 26,
   "outputs": [],
   "source": [],
   "metadata": {
    "collapsed": false,
    "pycharm": {
     "name": "#%%\n"
    }
   }
  },
  {
   "cell_type": "code",
   "execution_count": null,
   "outputs": [],
   "source": [],
   "metadata": {
    "collapsed": false,
    "pycharm": {
     "name": "#%%\n"
    }
   }
  }
 ],
 "metadata": {
  "kernelspec": {
   "display_name": "Python 3",
   "language": "python",
   "name": "python3"
  },
  "language_info": {
   "codemirror_mode": {
    "name": "ipython",
    "version": 2
   },
   "file_extension": ".py",
   "mimetype": "text/x-python",
   "name": "python",
   "nbconvert_exporter": "python",
   "pygments_lexer": "ipython2",
   "version": "2.7.6"
  }
 },
 "nbformat": 4,
 "nbformat_minor": 0
}