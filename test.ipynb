{
 "cells": [
  {
   "cell_type": "code",
   "execution_count": 1,
   "outputs": [],
   "source": [
    "from ibapi.client import EClient\n",
    "from ibapi.wrapper import EWrapper\n",
    "from ibapi.contract import Contract\n",
    "from datetime import datetime\n",
    "from math import isnan\n",
    "\n",
    "import threading\n",
    "import time\n",
    "import pandas\n",
    "from pandas import DataFrame"
   ],
   "metadata": {
    "collapsed": false,
    "pycharm": {
     "name": "#%%\n"
    }
   }
  },
  {
   "cell_type": "code",
   "execution_count": 2,
   "outputs": [],
   "source": [
    "class IBapi(EWrapper, EClient):\n",
    "    def __init__(self):\n",
    "        EClient.__init__(self, self)\n",
    "        self.data = []  # Initialize variable to store candle\n",
    "\n",
    "    def historicalData(self, reqId, bar):\n",
    "        print(f'reqId: {reqId} Time: {bar.date} Close: {bar.close}')\n",
    "        self.data.append([reqId, bar.date, bar.close])"
   ],
   "metadata": {
    "collapsed": false,
    "pycharm": {
     "name": "#%%\n"
    }
   }
  },
  {
   "cell_type": "code",
   "execution_count": 3,
   "outputs": [],
   "source": [
    "app = IBapi()\n",
    "app.connect('127.0.0.1', 7497, 10645)\n",
    "\n",
    "\n",
    "def run_loop():\n",
    "    app.run()"
   ],
   "metadata": {
    "collapsed": false,
    "pycharm": {
     "name": "#%%\n"
    }
   }
  },
  {
   "cell_type": "code",
   "execution_count": 4,
   "outputs": [],
   "source": [
    "reqId_serial = 1"
   ],
   "metadata": {
    "collapsed": false,
    "pycharm": {
     "name": "#%%\n"
    }
   }
  },
  {
   "cell_type": "code",
   "execution_count": 5,
   "outputs": [
    {
     "name": "stderr",
     "output_type": "stream",
     "text": [
      "ERROR -1 2104 Market data farm connection is OK:cashfarm\n",
      "ERROR -1 2104 Market data farm connection is OK:usfuture\n",
      "ERROR -1 2104 Market data farm connection is OK:usfarm.nj\n",
      "ERROR -1 2104 Market data farm connection is OK:eufarm\n",
      "ERROR -1 2104 Market data farm connection is OK:usfarm\n",
      "ERROR -1 2106 HMDS data farm connection is OK:euhmds\n",
      "ERROR -1 2106 HMDS data farm connection is OK:cashhmds\n",
      "ERROR -1 2106 HMDS data farm connection is OK:fundfarm\n",
      "ERROR -1 2106 HMDS data farm connection is OK:ushmds\n",
      "ERROR -1 2158 Sec-def data farm connection is OK:secdefil\n"
     ]
    }
   ],
   "source": [
    "# Start the socket in a thread\n",
    "api_thread = threading.Thread(target=run_loop, daemon=True)\n",
    "api_thread.start()\n",
    "time.sleep(1)  # Sleep interval to allow time for connection to server"
   ],
   "metadata": {
    "collapsed": false,
    "pycharm": {
     "name": "#%%\n"
    }
   }
  },
  {
   "cell_type": "code",
   "execution_count": 6,
   "outputs": [],
   "source": [
    "def create_contract(curr1, curr2):\n",
    "    # Create contract object\n",
    "    contract = Contract()\n",
    "    contract.symbol = curr1\n",
    "    contract.secType = 'CASH'\n",
    "    contract.exchange = 'IDEALPRO'\n",
    "    contract.currency = curr2\n",
    "    return contract"
   ],
   "metadata": {
    "collapsed": false,
    "pycharm": {
     "name": "#%%\n"
    }
   }
  },
  {
   "cell_type": "code",
   "execution_count": 7,
   "outputs": [],
   "source": [
    "EUR_USD_contract = create_contract('EUR', 'USD')"
   ],
   "metadata": {
    "collapsed": false,
    "pycharm": {
     "name": "#%%\n"
    }
   }
  },
  {
   "cell_type": "code",
   "execution_count": 8,
   "outputs": [
    {
     "name": "stdout",
     "output_type": "stream",
     "text": [
      "reqId: 1 Time: 20220422 Close: 1.07925\n"
     ]
    }
   ],
   "source": [
    "# Request historical candles\n",
    "app.reqHistoricalData(reqId=1, contract=EUR_USD_contract, endDateTime='', durationStr='1 D', barSizeSetting='1 day',\n",
    "                      whatToShow='MIDPOINT', useRTH=0, formatDate=1, keepUpToDate=False, chartOptions=[])\n",
    "time.sleep(2)  # sleep to allow enough time for data to be returned"
   ],
   "metadata": {
    "collapsed": false,
    "pycharm": {
     "name": "#%%\n"
    }
   }
  },
  {
   "cell_type": "code",
   "execution_count": 9,
   "outputs": [],
   "source": [
    "df = pandas.DataFrame(app.data, columns=['reqId', 'DateTime', 'Close'])"
   ],
   "metadata": {
    "collapsed": false,
    "pycharm": {
     "name": "#%%\n"
    }
   }
  },
  {
   "cell_type": "code",
   "execution_count": 10,
   "outputs": [],
   "source": [
    "df['DateTime'] = [datetime.strptime(dt, '%Y%m%d') for dt in df['DateTime']]"
   ],
   "metadata": {
    "collapsed": false,
    "pycharm": {
     "name": "#%%\n"
    }
   }
  },
  {
   "cell_type": "code",
   "execution_count": 11,
   "outputs": [
    {
     "data": {
      "text/plain": "   reqId   DateTime    Close\n0      1 2022-04-22  1.07925",
      "text/html": "<div>\n<style scoped>\n    .dataframe tbody tr th:only-of-type {\n        vertical-align: middle;\n    }\n\n    .dataframe tbody tr th {\n        vertical-align: top;\n    }\n\n    .dataframe thead th {\n        text-align: right;\n    }\n</style>\n<table border=\"1\" class=\"dataframe\">\n  <thead>\n    <tr style=\"text-align: right;\">\n      <th></th>\n      <th>reqId</th>\n      <th>DateTime</th>\n      <th>Close</th>\n    </tr>\n  </thead>\n  <tbody>\n    <tr>\n      <th>0</th>\n      <td>1</td>\n      <td>2022-04-22</td>\n      <td>1.07925</td>\n    </tr>\n  </tbody>\n</table>\n</div>"
     },
     "execution_count": 11,
     "metadata": {},
     "output_type": "execute_result"
    }
   ],
   "source": [
    "df"
   ],
   "metadata": {
    "collapsed": false,
    "pycharm": {
     "name": "#%%\n"
    }
   }
  },
  {
   "cell_type": "markdown",
   "source": [],
   "metadata": {
    "collapsed": false,
    "pycharm": {
     "name": "#%% md\n"
    }
   }
  },
  {
   "cell_type": "code",
   "execution_count": 12,
   "outputs": [],
   "source": [
    "def request_data(contract):\n",
    "    global reqId_serial\n",
    "    reqId_serial += 1\n",
    "    app.reqHistoricalData(reqId=reqId_serial, contract=contract, endDateTime='', durationStr='1 D',\n",
    "                          barSizeSetting='1 day',\n",
    "                          whatToShow='MIDPOINT', useRTH=0, formatDate=1, keepUpToDate=False, chartOptions=[])\n",
    "    time.sleep(0.5)\n",
    "    if app.data[len(app.data) - 1][0] != reqId_serial:\n",
    "        return float('NaN')\n",
    "    else:\n",
    "        return app.data[len(app.data) - 1][2]"
   ],
   "metadata": {
    "collapsed": false,
    "pycharm": {
     "name": "#%%\n"
    }
   }
  },
  {
   "cell_type": "code",
   "execution_count": 13,
   "outputs": [
    {
     "name": "stdout",
     "output_type": "stream",
     "text": [
      "reqId: 2 Time: 20220422 Close: 1.07935\n",
      "1.07935\n"
     ]
    }
   ],
   "source": [
    "print(request_data(EUR_USD_contract))"
   ],
   "metadata": {
    "collapsed": false,
    "pycharm": {
     "name": "#%%\n"
    }
   }
  },
  {
   "cell_type": "code",
   "execution_count": 14,
   "outputs": [],
   "source": [
    "def fetch_exc_rate(base, quote):\n",
    "    contract = create_contract(base, quote)\n",
    "    return request_data(contract)"
   ],
   "metadata": {
    "collapsed": false,
    "pycharm": {
     "name": "#%%\n"
    }
   }
  },
  {
   "cell_type": "code",
   "execution_count": 15,
   "outputs": [],
   "source": [
    "currencies = ['USD', 'EUR', 'GBP', 'JPY', 'AUD']"
   ],
   "metadata": {
    "collapsed": false,
    "pycharm": {
     "name": "#%%\n"
    }
   }
  },
  {
   "cell_type": "code",
   "execution_count": 16,
   "outputs": [],
   "source": [
    "def fetch_all(curr_list):\n",
    "    matrix = DataFrame(columns=curr_list, index=curr_list)\n",
    "    for i in range(0, len(curr_list)):\n",
    "        for j in range(0, len(curr_list)):\n",
    "            if i == j:\n",
    "                matrix[curr_list[i]][curr_list[j]] = 1\n",
    "            else:\n",
    "                matrix[curr_list[i]][curr_list[j]] = fetch_exc_rate(curr_list[i], curr_list[j])\n",
    "    return matrix"
   ],
   "metadata": {
    "collapsed": false,
    "pycharm": {
     "name": "#%%\n"
    }
   }
  },
  {
   "cell_type": "code",
   "execution_count": 41,
   "outputs": [
    {
     "name": "stderr",
     "output_type": "stream",
     "text": [
      "ERROR 43 200 No security definition has been found for the request\n",
      "ERROR 44 200 No security definition has been found for the request\n"
     ]
    },
    {
     "name": "stdout",
     "output_type": "stream",
     "text": [
      "reqId: 45 Time: 20220422 Close: 128.5795\n"
     ]
    },
    {
     "name": "stderr",
     "output_type": "stream",
     "text": [
      "ERROR 46 200 No security definition has been found for the request\n"
     ]
    },
    {
     "name": "stdout",
     "output_type": "stream",
     "text": [
      "reqId: 47 Time: 20220422 Close: 1.07875\n",
      "reqId: 48 Time: 20220422 Close: 0.841\n",
      "reqId: 49 Time: 20220422 Close: 138.7225\n",
      "reqId: 50 Time: 20220422 Close: 1.4904\n",
      "reqId: 51 Time: 20220422 Close: 1.2827\n"
     ]
    },
    {
     "name": "stderr",
     "output_type": "stream",
     "text": [
      "ERROR 52 200 No security definition has been found for the request\n"
     ]
    },
    {
     "name": "stdout",
     "output_type": "stream",
     "text": [
      "reqId: 53 Time: 20220422 Close: 164.9465\n",
      "reqId: 54 Time: 20220422 Close: 1.77205\n"
     ]
    },
    {
     "name": "stderr",
     "output_type": "stream",
     "text": [
      "ERROR 55 200 No security definition has been found for the request\n",
      "ERROR 56 200 No security definition has been found for the request\n",
      "ERROR 57 200 No security definition has been found for the request\n",
      "ERROR 58 200 No security definition has been found for the request\n"
     ]
    },
    {
     "name": "stdout",
     "output_type": "stream",
     "text": [
      "reqId: 59 Time: 20220422 Close: 0.72385\n"
     ]
    },
    {
     "name": "stderr",
     "output_type": "stream",
     "text": [
      "ERROR 60 200 No security definition has been found for the request\n",
      "ERROR 61 200 No security definition has been found for the request\n"
     ]
    },
    {
     "name": "stdout",
     "output_type": "stream",
     "text": [
      "reqId: 62 Time: 20220422 Close: 93.076\n"
     ]
    }
   ],
   "source": [
    "exchange_rates = fetch_all(currencies)"
   ],
   "metadata": {
    "collapsed": false,
    "pycharm": {
     "name": "#%%\n"
    }
   }
  },
  {
   "cell_type": "code",
   "execution_count": 56,
   "outputs": [],
   "source": [
    "def fill_in_nan(matrix):\n",
    "    for col in matrix.columns:\n",
    "        for row in matrix.index:\n",
    "            if isnan(matrix[col][row]) & (not isnan(matrix[row][col])):\n",
    "                matrix[col][row] = 1 / matrix[row][col]\n",
    "    return matrix"
   ],
   "metadata": {
    "collapsed": false,
    "pycharm": {
     "name": "#%%\n"
    }
   }
  },
  {
   "cell_type": "code",
   "execution_count": 59,
   "outputs": [],
   "source": [
    "def check_all_data(matrix):\n",
    "    return not matrix.isnull().values.any()\n"
   ],
   "metadata": {
    "collapsed": false,
    "pycharm": {
     "name": "#%%\n"
    }
   }
  },
  {
   "cell_type": "code",
   "execution_count": 57,
   "outputs": [],
   "source": [
    "exchange_rates = fill_in_nan(exchange_rates)"
   ],
   "metadata": {
    "collapsed": false,
    "pycharm": {
     "name": "#%%\n"
    }
   }
  },
  {
   "cell_type": "code",
   "execution_count": 60,
   "outputs": [
    {
     "data": {
      "text/plain": "True"
     },
     "execution_count": 60,
     "metadata": {},
     "output_type": "execute_result"
    }
   ],
   "source": [
    "check_all_data(exchange_rates)"
   ],
   "metadata": {
    "collapsed": false,
    "pycharm": {
     "name": "#%%\n"
    }
   }
  },
  {
   "cell_type": "code",
   "execution_count": 61,
   "outputs": [
    {
     "data": {
      "text/plain": "          USD       EUR       GBP       JPY       AUD\nUSD         1   1.07875    1.2827  0.007777   0.72385\nEUR  0.926999         1  1.189061  0.007209  0.670961\nGBP  0.779606     0.841         1  0.006063  0.564318\nJPY  128.5795  138.7225  164.9465         1    93.076\nAUD  1.381502    1.4904   1.77205  0.010744         1",
      "text/html": "<div>\n<style scoped>\n    .dataframe tbody tr th:only-of-type {\n        vertical-align: middle;\n    }\n\n    .dataframe tbody tr th {\n        vertical-align: top;\n    }\n\n    .dataframe thead th {\n        text-align: right;\n    }\n</style>\n<table border=\"1\" class=\"dataframe\">\n  <thead>\n    <tr style=\"text-align: right;\">\n      <th></th>\n      <th>USD</th>\n      <th>EUR</th>\n      <th>GBP</th>\n      <th>JPY</th>\n      <th>AUD</th>\n    </tr>\n  </thead>\n  <tbody>\n    <tr>\n      <th>USD</th>\n      <td>1</td>\n      <td>1.07875</td>\n      <td>1.2827</td>\n      <td>0.007777</td>\n      <td>0.72385</td>\n    </tr>\n    <tr>\n      <th>EUR</th>\n      <td>0.926999</td>\n      <td>1</td>\n      <td>1.189061</td>\n      <td>0.007209</td>\n      <td>0.670961</td>\n    </tr>\n    <tr>\n      <th>GBP</th>\n      <td>0.779606</td>\n      <td>0.841</td>\n      <td>1</td>\n      <td>0.006063</td>\n      <td>0.564318</td>\n    </tr>\n    <tr>\n      <th>JPY</th>\n      <td>128.5795</td>\n      <td>138.7225</td>\n      <td>164.9465</td>\n      <td>1</td>\n      <td>93.076</td>\n    </tr>\n    <tr>\n      <th>AUD</th>\n      <td>1.381502</td>\n      <td>1.4904</td>\n      <td>1.77205</td>\n      <td>0.010744</td>\n      <td>1</td>\n    </tr>\n  </tbody>\n</table>\n</div>"
     },
     "execution_count": 61,
     "metadata": {},
     "output_type": "execute_result"
    }
   ],
   "source": [
    "exchange_rates"
   ],
   "metadata": {
    "collapsed": false,
    "pycharm": {
     "name": "#%%\n"
    }
   }
  },
  {
   "cell_type": "code",
   "execution_count": 62,
   "outputs": [],
   "source": [
    "def check_arbitrage(result_dict, matrix, curr1, curr2, curr3):\n",
    "    arbitrage_amount = matrix[curr1][curr2] * matrix[curr2][curr3] * matrix[curr3][curr1] - 1\n",
    "    result_dict[curr1 + '.' + curr2 + '.' + curr3] = arbitrage_amount\n",
    "    arbitrage_amount_rev = matrix[curr1][curr3] * matrix[curr3][curr2] * matrix[curr2][curr1] - 1\n",
    "    result_dict[curr1 + '.' + curr3 + '.' + curr2] = arbitrage_amount_rev\n",
    "    print(curr1 + '->' + curr2 + '->' + curr3 + '->' + curr1 + ': ' + \"{:.6f}\".format(arbitrage_amount))\n",
    "    print(curr1 + '->' + curr3 + '->' + curr2 + '->' + curr1 + ': ' + \"{:.6f}\".format(arbitrage_amount_rev))\n",
    "    return arbitrage_amount"
   ],
   "metadata": {
    "collapsed": false,
    "pycharm": {
     "name": "#%%\n"
    }
   }
  },
  {
   "cell_type": "code",
   "execution_count": 63,
   "outputs": [],
   "source": [
    "def check_all_arbitrage(result_dict, matrix, currency_list):\n",
    "    for i in range(0, len(currency_list)):\n",
    "        for j in range(i + 1, len(currency_list)):\n",
    "            for k in range(j + 1, len(currency_list)):\n",
    "                check_arbitrage(result_dict, matrix, currency_list[i], currency_list[j], currency_list[k])\n",
    "    return result_dict"
   ],
   "metadata": {
    "collapsed": false,
    "pycharm": {
     "name": "#%%\n"
    }
   }
  },
  {
   "cell_type": "code",
   "execution_count": 65,
   "outputs": [
    {
     "name": "stdout",
     "output_type": "stream",
     "text": [
      "USD->EUR->GBP->USD: 0.000001\n",
      "USD->GBP->EUR->USD: -0.000001\n",
      "USD->EUR->JPY->USD: 0.000125\n",
      "USD->JPY->EUR->USD: -0.000125\n",
      "USD->EUR->AUD->USD: 0.000070\n",
      "USD->AUD->EUR->USD: -0.000070\n",
      "USD->GBP->JPY->USD: 0.000107\n",
      "USD->JPY->GBP->USD: -0.000107\n",
      "USD->GBP->AUD->USD: -0.000001\n",
      "USD->AUD->GBP->USD: 0.000001\n",
      "USD->JPY->AUD->USD: -0.000040\n",
      "USD->AUD->JPY->USD: 0.000040\n",
      "EUR->GBP->JPY->EUR: -0.000018\n",
      "EUR->JPY->GBP->EUR: 0.000018\n",
      "EUR->GBP->AUD->EUR: -0.000071\n",
      "EUR->AUD->GBP->EUR: 0.000071\n",
      "EUR->JPY->AUD->EUR: 0.000015\n",
      "EUR->AUD->JPY->EUR: -0.000015\n",
      "GBP->JPY->AUD->GBP: 0.000068\n",
      "GBP->AUD->JPY->GBP: -0.000068\n"
     ]
    }
   ],
   "source": [
    "results = dict()\n",
    "results = check_all_arbitrage(results, exchange_rates, currencies)"
   ],
   "metadata": {
    "collapsed": false,
    "pycharm": {
     "name": "#%%\n"
    }
   }
  },
  {
   "cell_type": "code",
   "execution_count": 66,
   "outputs": [
    {
     "data": {
      "text/plain": "{'USD.EUR.GBP': 6.488991888264906e-07,\n 'USD.GBP.EUR': -6.488987677188973e-07,\n 'USD.EUR.JPY': 0.00012518912815839833,\n 'USD.JPY.EUR': -0.00012517345780238553,\n 'USD.EUR.AUD': 7.0488991888773e-05,\n 'USD.AUD.EUR': -7.048402354103978e-05,\n 'USD.GBP.JPY': 0.0001065631758485619,\n 'USD.JPY.GBP': -0.0001065518213479999,\n 'USD.GBP.AUD': -1.2532158729650078e-06,\n 'USD.AUD.GBP': 1.2532174431534315e-06,\n 'USD.JPY.AUD': -4.006322789973371e-05,\n 'USD.AUD.JPY': 4.006483302632091e-05,\n 'EUR.GBP.JPY': -1.7974733731107584e-05,\n 'EUR.JPY.GBP': 1.7975056827879143e-05,\n 'EUR.GBP.AUD': -7.108829844348907e-05,\n 'EUR.AUD.GBP': 7.109335234867231e-05,\n 'EUR.JPY.AUD': 1.4630861574937981e-05,\n 'EUR.AUD.JPY': -1.4630647515834205e-05,\n 'GBP.JPY.AUD': 6.774897946093539e-05,\n 'GBP.AUD.JPY': -6.774438984757936e-05}"
     },
     "execution_count": 66,
     "metadata": {},
     "output_type": "execute_result"
    }
   ],
   "source": [
    "results"
   ],
   "metadata": {
    "collapsed": false,
    "pycharm": {
     "name": "#%%\n"
    }
   }
  },
  {
   "cell_type": "code",
   "execution_count": null,
   "outputs": [],
   "source": [],
   "metadata": {
    "collapsed": false,
    "pycharm": {
     "name": "#%%\n"
    }
   }
  }
 ],
 "metadata": {
  "kernelspec": {
   "display_name": "Python 3",
   "language": "python",
   "name": "python3"
  },
  "language_info": {
   "codemirror_mode": {
    "name": "ipython",
    "version": 2
   },
   "file_extension": ".py",
   "mimetype": "text/x-python",
   "name": "python",
   "nbconvert_exporter": "python",
   "pygments_lexer": "ipython2",
   "version": "2.7.6"
  }
 },
 "nbformat": 4,
 "nbformat_minor": 0
}