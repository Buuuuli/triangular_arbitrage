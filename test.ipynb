{
 "cells": [
  {
   "cell_type": "code",
   "execution_count": null,
   "outputs": [],
   "source": [
    "from ibapi.client import EClient\n",
    "from ibapi.wrapper import EWrapper\n",
    "from ibapi.contract import Contract\n",
    "from datetime import datetime\n",
    "from math import isnan\n",
    "\n",
    "import threading\n",
    "import time\n",
    "import pandas\n",
    "from pandas import DataFrame"
   ],
   "metadata": {
    "collapsed": false,
    "pycharm": {
     "name": "#%%\n"
    }
   }
  },
  {
   "cell_type": "code",
   "execution_count": null,
   "outputs": [],
   "source": [
    "class IBapi(EWrapper, EClient):\n",
    "    def __init__(self):\n",
    "        EClient.__init__(self, self)\n",
    "        self.data = []  # Initialize variable to store candle\n",
    "\n",
    "    def historicalData(self, reqId, bar):\n",
    "        print(f'reqId: {reqId} Time: {bar.date} Close: {bar.close}')\n",
    "        self.data.append([reqId, bar.date, bar.close])"
   ],
   "metadata": {
    "collapsed": false,
    "pycharm": {
     "name": "#%%\n"
    }
   }
  },
  {
   "cell_type": "code",
   "execution_count": null,
   "outputs": [],
   "source": [
    "app = IBapi()\n",
    "app.connect('127.0.0.1', 7497, 10645)\n",
    "\n",
    "\n",
    "def run_loop():\n",
    "    app.run()"
   ],
   "metadata": {
    "collapsed": false,
    "pycharm": {
     "name": "#%%\n"
    }
   }
  },
  {
   "cell_type": "code",
   "execution_count": null,
   "outputs": [],
   "source": [
    "reqId_serial = 1"
   ],
   "metadata": {
    "collapsed": false,
    "pycharm": {
     "name": "#%%\n"
    }
   }
  },
  {
   "cell_type": "code",
   "execution_count": null,
   "outputs": [],
   "source": [
    "# Start the socket in a thread\n",
    "api_thread = threading.Thread(target=run_loop, daemon=True)\n",
    "api_thread.start()\n",
    "time.sleep(1)  # Sleep interval to allow time for connection to server"
   ],
   "metadata": {
    "collapsed": false,
    "pycharm": {
     "name": "#%%\n"
    }
   }
  },
  {
   "cell_type": "code",
   "execution_count": null,
   "outputs": [],
   "source": [
    "def create_contract(curr1, curr2):\n",
    "    # Create contract object\n",
    "    contract = Contract()\n",
    "    contract.symbol = curr1\n",
    "    contract.secType = 'CASH'\n",
    "    contract.exchange = 'IDEALPRO'\n",
    "    contract.currency = curr2\n",
    "    return contract"
   ],
   "metadata": {
    "collapsed": false,
    "pycharm": {
     "name": "#%%\n"
    }
   }
  },
  {
   "cell_type": "code",
   "execution_count": null,
   "outputs": [],
   "source": [
    "EUR_USD_contract = create_contract('EUR', 'USD')"
   ],
   "metadata": {
    "collapsed": false,
    "pycharm": {
     "name": "#%%\n"
    }
   }
  },
  {
   "cell_type": "code",
   "execution_count": null,
   "outputs": [],
   "source": [
    "# Request historical candles\n",
    "app.reqHistoricalData(reqId=1, contract=EUR_USD_contract, endDateTime='', durationStr='1 D', barSizeSetting='1 day',\n",
    "                      whatToShow='MIDPOINT', useRTH=0, formatDate=1, keepUpToDate=False, chartOptions=[])\n",
    "time.sleep(2)  # sleep to allow enough time for data to be returned"
   ],
   "metadata": {
    "collapsed": false,
    "pycharm": {
     "name": "#%%\n"
    }
   }
  },
  {
   "cell_type": "code",
   "execution_count": null,
   "outputs": [],
   "source": [
    "df = pandas.DataFrame(app.data, columns=['reqId', 'DateTime', 'Close'])"
   ],
   "metadata": {
    "collapsed": false,
    "pycharm": {
     "name": "#%%\n"
    }
   }
  },
  {
   "cell_type": "code",
   "execution_count": null,
   "outputs": [],
   "source": [
    "df['DateTime'] = [datetime.strptime(dt, '%Y%m%d') for dt in df['DateTime']]"
   ],
   "metadata": {
    "collapsed": false,
    "pycharm": {
     "name": "#%%\n"
    }
   }
  },
  {
   "cell_type": "code",
   "execution_count": null,
   "outputs": [],
   "source": [
    "df"
   ],
   "metadata": {
    "collapsed": false,
    "pycharm": {
     "name": "#%%\n"
    }
   }
  },
  {
   "cell_type": "markdown",
   "source": [],
   "metadata": {
    "collapsed": false,
    "pycharm": {
     "name": "#%% md\n"
    }
   }
  },
  {
   "cell_type": "code",
   "execution_count": null,
   "outputs": [],
   "source": [
    "def request_data(contract):\n",
    "    global reqId_serial\n",
    "    reqId_serial += 1\n",
    "    app.reqHistoricalData(reqId=reqId_serial, contract=contract, endDateTime='', durationStr='1 D',\n",
    "                          barSizeSetting='1 day',\n",
    "                          whatToShow='MIDPOINT', useRTH=0, formatDate=1, keepUpToDate=False, chartOptions=[])\n",
    "    time.sleep(0.5)\n",
    "    if app.data[len(app.data) - 1][0] != reqId_serial:\n",
    "        return float('NaN')\n",
    "    else:\n",
    "        return app.data[len(app.data) - 1][2]"
   ],
   "metadata": {
    "collapsed": false,
    "pycharm": {
     "name": "#%%\n"
    }
   }
  },
  {
   "cell_type": "code",
   "execution_count": null,
   "outputs": [],
   "source": [
    "print(request_data(EUR_USD_contract))"
   ],
   "metadata": {
    "collapsed": false,
    "pycharm": {
     "name": "#%%\n"
    }
   }
  },
  {
   "cell_type": "code",
   "execution_count": null,
   "outputs": [],
   "source": [
    "def fetch_exc_rate(base, quote):\n",
    "    contract = create_contract(base, quote)\n",
    "    return request_data(contract)"
   ],
   "metadata": {
    "collapsed": false,
    "pycharm": {
     "name": "#%%\n"
    }
   }
  },
  {
   "cell_type": "code",
   "execution_count": null,
   "outputs": [],
   "source": [
    "currencies = ['USD', 'EUR', 'GBP', 'JPY', 'AUD']"
   ],
   "metadata": {
    "collapsed": false,
    "pycharm": {
     "name": "#%%\n"
    }
   }
  },
  {
   "cell_type": "code",
   "execution_count": null,
   "outputs": [],
   "source": [
    "def fetch_all(curr_list):\n",
    "    matrix = DataFrame(columns=curr_list, index=curr_list)\n",
    "    for i in range(0, len(curr_list)):\n",
    "        for j in range(0, len(curr_list)):\n",
    "            if i == j:\n",
    "                matrix[curr_list[i]][curr_list[j]] = 1\n",
    "            else:\n",
    "                matrix[curr_list[i]][curr_list[j]] = fetch_exc_rate(curr_list[i], curr_list[j])\n",
    "    return matrix"
   ],
   "metadata": {
    "collapsed": false,
    "pycharm": {
     "name": "#%%\n"
    }
   }
  },
  {
   "cell_type": "code",
   "execution_count": null,
   "outputs": [],
   "source": [
    "exchange_rates = fetch_all(currencies)"
   ],
   "metadata": {
    "collapsed": false,
    "pycharm": {
     "name": "#%%\n"
    }
   }
  },
  {
   "cell_type": "code",
   "execution_count": null,
   "outputs": [],
   "source": [
    "def fill_in_nan(matrix):\n",
    "    for col in matrix.columns:\n",
    "        for row in matrix.index:\n",
    "            if isnan(matrix[col][row]) & (not isnan(matrix[row][col])):\n",
    "                matrix[col][row] = 1 / matrix[row][col]\n",
    "    return matrix"
   ],
   "metadata": {
    "collapsed": false,
    "pycharm": {
     "name": "#%%\n"
    }
   }
  },
  {
   "cell_type": "code",
   "execution_count": null,
   "outputs": [],
   "source": [
    "def check_all_data(matrix):\n",
    "    return not matrix.isnull().values.any()\n"
   ],
   "metadata": {
    "collapsed": false,
    "pycharm": {
     "name": "#%%\n"
    }
   }
  },
  {
   "cell_type": "code",
   "execution_count": null,
   "outputs": [],
   "source": [
    "exchange_rates = fill_in_nan(exchange_rates)"
   ],
   "metadata": {
    "collapsed": false,
    "pycharm": {
     "name": "#%%\n"
    }
   }
  },
  {
   "cell_type": "code",
   "execution_count": null,
   "outputs": [],
   "source": [
    "check_all_data(exchange_rates)"
   ],
   "metadata": {
    "collapsed": false,
    "pycharm": {
     "name": "#%%\n"
    }
   }
  },
  {
   "cell_type": "code",
   "execution_count": null,
   "outputs": [],
   "source": [
    "exchange_rates = fetch_all(currencies)"
   ],
   "metadata": {
    "collapsed": false,
    "pycharm": {
     "name": "#%%\n"
    }
   }
  },
  {
   "cell_type": "code",
   "execution_count": null,
   "outputs": [],
   "source": [
    "def fill_in_nan(matrix):\n",
    "    for col in matrix.columns:\n",
    "        for row in matrix.index:\n",
    "            if isnan(matrix[col][row]) & (not isnan(matrix[row][col])):\n",
    "                matrix[col][row] = 1 / matrix[row][col]\n",
    "    return matrix"
   ],
   "metadata": {
    "collapsed": false,
    "pycharm": {
     "name": "#%%\n"
    }
   }
  },
  {
   "cell_type": "code",
   "execution_count": null,
   "outputs": [],
   "source": [
    "def check_all_data(matrix):\n",
    "    return not matrix.isnull().values.any()\n"
   ],
   "metadata": {
    "collapsed": false,
    "pycharm": {
     "name": "#%%\n"
    }
   }
  },
  {
   "cell_type": "code",
   "execution_count": null,
   "outputs": [],
   "source": [
    "exchange_rates = fill_in_nan(exchange_rates)"
   ],
   "metadata": {
    "collapsed": false,
    "pycharm": {
     "name": "#%%\n"
    }
   }
  },
  {
   "cell_type": "code",
   "execution_count": null,
   "outputs": [],
   "source": [
    "check_all_data(exchange_rates)"
   ],
   "metadata": {
    "collapsed": false,
    "pycharm": {
     "name": "#%%\n"
    }
   }
  },
  {
   "cell_type": "code",
   "execution_count": null,
   "outputs": [],
   "source": [
    "exchange_rates"
   ],
   "metadata": {
    "collapsed": false,
    "pycharm": {
     "name": "#%%\n"
    }
   }
  },
  {
   "cell_type": "code",
   "execution_count": null,
   "outputs": [],
   "source": [
    "def check_arbitrage(result_dict, matrix, curr1, curr2, curr3):\n",
    "    arbitrage_amount = matrix[curr1][curr2] * matrix[curr2][curr3] * matrix[curr3][curr1] - 1\n",
    "    result_dict[curr1 + '.' + curr2 + '.' + curr3] = arbitrage_amount\n",
    "    arbitrage_amount_rev = matrix[curr1][curr3] * matrix[curr3][curr2] * matrix[curr2][curr1] - 1\n",
    "    result_dict[curr1 + '.' + curr3 + '.' + curr2] = arbitrage_amount_rev\n",
    "    print(curr1 + '->' + curr2 + '->' + curr3 + '->' + curr1 + ': ' + \"{:.6f}\".format(arbitrage_amount))\n",
    "    print(curr1 + '->' + curr3 + '->' + curr2 + '->' + curr1 + ': ' + \"{:.6f}\".format(arbitrage_amount_rev))\n",
    "    return arbitrage_amount"
   ],
   "metadata": {
    "collapsed": false,
    "pycharm": {
     "name": "#%%\n"
    }
   }
  },
  {
   "cell_type": "code",
   "execution_count": null,
   "outputs": [],
   "source": [
    "def check_all_arbitrage(result_dict, matrix, currency_list):\n",
    "    for i in range(0, len(currency_list)):\n",
    "        for j in range(i + 1, len(currency_list)):\n",
    "            for k in range(j + 1, len(currency_list)):\n",
    "                check_arbitrage(result_dict, matrix, currency_list[i], currency_list[j], currency_list[k])\n",
    "    return result_dict"
   ],
   "metadata": {
    "collapsed": false,
    "pycharm": {
     "name": "#%%\n"
    }
   }
  },
  {
   "cell_type": "code",
   "execution_count": null,
   "outputs": [],
   "source": [
    "results = dict()\n",
    "results = check_all_arbitrage(results, exchange_rates, currencies)"
   ],
   "metadata": {
    "collapsed": false,
    "pycharm": {
     "name": "#%%\n"
    }
   }
  },
  {
   "cell_type": "code",
   "execution_count": null,
   "outputs": [],
   "source": [
    "df_results = DataFrame.from_dict(results,orient='index').reset_index().rename(columns={'index':'Paths','0':'Profits'})"
   ],
   "metadata": {
    "collapsed": false,
    "pycharm": {
     "name": "#%%\n"
    }
   }
  },
  {
   "cell_type": "code",
   "execution_count": null,
   "outputs": [],
   "source": [
    "df_results"
   ],
   "metadata": {
    "collapsed": false,
    "pycharm": {
     "name": "#%%\n"
    }
   }
  },
  {
   "cell_type": "code",
   "execution_count": null,
   "outputs": [],
   "source": [
    "results"
   ],
   "metadata": {
    "collapsed": false,
    "pycharm": {
     "name": "#%%\n"
    }
   }
  },
  {
   "cell_type": "code",
   "execution_count": null,
   "outputs": [],
   "source": [
    "df_results.reset_index()"
   ],
   "metadata": {
    "collapsed": false,
    "pycharm": {
     "name": "#%%\n"
    }
   }
  },
  {
   "cell_type": "code",
   "execution_count": null,
   "outputs": [],
   "source": [
    "df_results.reset_index().rename(columns={'index':'Paths','0':'Profits'})"
   ],
   "metadata": {
    "collapsed": false,
    "pycharm": {
     "name": "#%%\n"
    }
   }
  },
  {
   "cell_type": "code",
   "execution_count": null,
   "outputs": [],
   "source": [
    "results"
   ],
   "metadata": {
    "collapsed": false,
    "pycharm": {
     "name": "#%%\n"
    }
   }
  },
  {
   "cell_type": "code",
   "execution_count": null,
   "outputs": [],
   "source": [
    "df_results.reset_index()"
   ],
   "metadata": {
    "collapsed": false,
    "pycharm": {
     "name": "#%%\n"
    }
   }
  },
  {
   "cell_type": "code",
   "execution_count": null,
   "outputs": [],
   "source": [
    "df_results.reset_index().rename(columns={'index':'Paths','0':'Profits'})"
   ],
   "metadata": {
    "collapsed": false,
    "pycharm": {
     "name": "#%%\n"
    }
   }
  },
  {
   "cell_type": "code",
   "execution_count": null,
   "outputs": [],
   "source": [],
   "metadata": {
    "collapsed": false,
    "pycharm": {
     "name": "#%%\n"
    }
   }
  },
  {
   "cell_type": "code",
   "execution_count": 39,
   "outputs": [
    {
     "ename": "TypeError",
     "evalue": "unhashable type: 'dict'",
     "output_type": "error",
     "traceback": [
      "\u001B[0;31m---------------------------------------------------------------------------\u001B[0m",
      "\u001B[0;31mTypeError\u001B[0m                                 Traceback (most recent call last)",
      "Input \u001B[0;32mIn [39]\u001B[0m, in \u001B[0;36m<cell line: 1>\u001B[0;34m()\u001B[0m\n\u001B[0;32m----> 1\u001B[0m \u001B[43mdf_results\u001B[49m\u001B[38;5;241;43m.\u001B[39;49m\u001B[43mreset_index\u001B[49m\u001B[43m(\u001B[49m\u001B[43m)\u001B[49m\u001B[38;5;241;43m.\u001B[39;49m\u001B[43mrename\u001B[49m\u001B[43m(\u001B[49m\u001B[43mcolumns\u001B[49m\u001B[38;5;241;43m=\u001B[39;49m\u001B[43m[\u001B[49m\u001B[43m{\u001B[49m\u001B[38;5;124;43m'\u001B[39;49m\u001B[38;5;124;43mindex\u001B[39;49m\u001B[38;5;124;43m'\u001B[39;49m\u001B[43m:\u001B[49m\u001B[38;5;124;43m'\u001B[39;49m\u001B[38;5;124;43mPaths\u001B[39;49m\u001B[38;5;124;43m'\u001B[39;49m\u001B[43m}\u001B[49m\u001B[43m,\u001B[49m\u001B[43m{\u001B[49m\u001B[38;5;124;43m'\u001B[39;49m\u001B[38;5;124;43m0\u001B[39;49m\u001B[38;5;124;43m'\u001B[39;49m\u001B[43m:\u001B[49m\u001B[38;5;124;43m'\u001B[39;49m\u001B[38;5;124;43mProfits\u001B[39;49m\u001B[38;5;124;43m'\u001B[39;49m\u001B[43m}\u001B[49m\u001B[43m]\u001B[49m\u001B[43m)\u001B[49m\n",
      "File \u001B[0;32m~/Desktop/Code/ft533/triangular_arbitrage/venv/lib/python3.10/site-packages/pandas/core/frame.py:5083\u001B[0m, in \u001B[0;36mDataFrame.rename\u001B[0;34m(self, mapper, index, columns, axis, copy, inplace, level, errors)\u001B[0m\n\u001B[1;32m   4964\u001B[0m \u001B[38;5;28;01mdef\u001B[39;00m \u001B[38;5;21mrename\u001B[39m(\n\u001B[1;32m   4965\u001B[0m     \u001B[38;5;28mself\u001B[39m,\n\u001B[1;32m   4966\u001B[0m     mapper: Renamer \u001B[38;5;241m|\u001B[39m \u001B[38;5;28;01mNone\u001B[39;00m \u001B[38;5;241m=\u001B[39m \u001B[38;5;28;01mNone\u001B[39;00m,\n\u001B[0;32m   (...)\u001B[0m\n\u001B[1;32m   4974\u001B[0m     errors: \u001B[38;5;28mstr\u001B[39m \u001B[38;5;241m=\u001B[39m \u001B[38;5;124m\"\u001B[39m\u001B[38;5;124mignore\u001B[39m\u001B[38;5;124m\"\u001B[39m,\n\u001B[1;32m   4975\u001B[0m ) \u001B[38;5;241m-\u001B[39m\u001B[38;5;241m>\u001B[39m DataFrame \u001B[38;5;241m|\u001B[39m \u001B[38;5;28;01mNone\u001B[39;00m:\n\u001B[1;32m   4976\u001B[0m     \u001B[38;5;124;03m\"\"\"\u001B[39;00m\n\u001B[1;32m   4977\u001B[0m \u001B[38;5;124;03m    Alter axes labels.\u001B[39;00m\n\u001B[1;32m   4978\u001B[0m \n\u001B[0;32m   (...)\u001B[0m\n\u001B[1;32m   5081\u001B[0m \u001B[38;5;124;03m    4  3  6\u001B[39;00m\n\u001B[1;32m   5082\u001B[0m \u001B[38;5;124;03m    \"\"\"\u001B[39;00m\n\u001B[0;32m-> 5083\u001B[0m     \u001B[38;5;28;01mreturn\u001B[39;00m \u001B[38;5;28;43msuper\u001B[39;49m\u001B[43m(\u001B[49m\u001B[43m)\u001B[49m\u001B[38;5;241;43m.\u001B[39;49m\u001B[43m_rename\u001B[49m\u001B[43m(\u001B[49m\n\u001B[1;32m   5084\u001B[0m \u001B[43m        \u001B[49m\u001B[43mmapper\u001B[49m\u001B[38;5;241;43m=\u001B[39;49m\u001B[43mmapper\u001B[49m\u001B[43m,\u001B[49m\n\u001B[1;32m   5085\u001B[0m \u001B[43m        \u001B[49m\u001B[43mindex\u001B[49m\u001B[38;5;241;43m=\u001B[39;49m\u001B[43mindex\u001B[49m\u001B[43m,\u001B[49m\n\u001B[1;32m   5086\u001B[0m \u001B[43m        \u001B[49m\u001B[43mcolumns\u001B[49m\u001B[38;5;241;43m=\u001B[39;49m\u001B[43mcolumns\u001B[49m\u001B[43m,\u001B[49m\n\u001B[1;32m   5087\u001B[0m \u001B[43m        \u001B[49m\u001B[43maxis\u001B[49m\u001B[38;5;241;43m=\u001B[39;49m\u001B[43maxis\u001B[49m\u001B[43m,\u001B[49m\n\u001B[1;32m   5088\u001B[0m \u001B[43m        \u001B[49m\u001B[43mcopy\u001B[49m\u001B[38;5;241;43m=\u001B[39;49m\u001B[43mcopy\u001B[49m\u001B[43m,\u001B[49m\n\u001B[1;32m   5089\u001B[0m \u001B[43m        \u001B[49m\u001B[43minplace\u001B[49m\u001B[38;5;241;43m=\u001B[39;49m\u001B[43minplace\u001B[49m\u001B[43m,\u001B[49m\n\u001B[1;32m   5090\u001B[0m \u001B[43m        \u001B[49m\u001B[43mlevel\u001B[49m\u001B[38;5;241;43m=\u001B[39;49m\u001B[43mlevel\u001B[49m\u001B[43m,\u001B[49m\n\u001B[1;32m   5091\u001B[0m \u001B[43m        \u001B[49m\u001B[43merrors\u001B[49m\u001B[38;5;241;43m=\u001B[39;49m\u001B[43merrors\u001B[49m\u001B[43m,\u001B[49m\n\u001B[1;32m   5092\u001B[0m \u001B[43m    \u001B[49m\u001B[43m)\u001B[49m\n",
      "File \u001B[0;32m~/Desktop/Code/ft533/triangular_arbitrage/venv/lib/python3.10/site-packages/pandas/core/generic.py:1145\u001B[0m, in \u001B[0;36mNDFrame._rename\u001B[0;34m(self, mapper, index, columns, axis, copy, inplace, level, errors)\u001B[0m\n\u001B[1;32m   1143\u001B[0m     indexer \u001B[38;5;241m=\u001B[39m ax\u001B[38;5;241m.\u001B[39mget_level_values(level)\u001B[38;5;241m.\u001B[39mget_indexer_for(replacements)\n\u001B[1;32m   1144\u001B[0m \u001B[38;5;28;01melse\u001B[39;00m:\n\u001B[0;32m-> 1145\u001B[0m     indexer \u001B[38;5;241m=\u001B[39m \u001B[43max\u001B[49m\u001B[38;5;241;43m.\u001B[39;49m\u001B[43mget_indexer_for\u001B[49m\u001B[43m(\u001B[49m\u001B[43mreplacements\u001B[49m\u001B[43m)\u001B[49m\n\u001B[1;32m   1147\u001B[0m \u001B[38;5;28;01mif\u001B[39;00m errors \u001B[38;5;241m==\u001B[39m \u001B[38;5;124m\"\u001B[39m\u001B[38;5;124mraise\u001B[39m\u001B[38;5;124m\"\u001B[39m \u001B[38;5;129;01mand\u001B[39;00m \u001B[38;5;28mlen\u001B[39m(indexer[indexer \u001B[38;5;241m==\u001B[39m \u001B[38;5;241m-\u001B[39m\u001B[38;5;241m1\u001B[39m]):\n\u001B[1;32m   1148\u001B[0m     missing_labels \u001B[38;5;241m=\u001B[39m [\n\u001B[1;32m   1149\u001B[0m         label\n\u001B[1;32m   1150\u001B[0m         \u001B[38;5;28;01mfor\u001B[39;00m index, label \u001B[38;5;129;01min\u001B[39;00m \u001B[38;5;28menumerate\u001B[39m(replacements)\n\u001B[1;32m   1151\u001B[0m         \u001B[38;5;28;01mif\u001B[39;00m indexer[index] \u001B[38;5;241m==\u001B[39m \u001B[38;5;241m-\u001B[39m\u001B[38;5;241m1\u001B[39m\n\u001B[1;32m   1152\u001B[0m     ]\n",
      "File \u001B[0;32m~/Desktop/Code/ft533/triangular_arbitrage/venv/lib/python3.10/site-packages/pandas/core/indexes/base.py:5764\u001B[0m, in \u001B[0;36mIndex.get_indexer_for\u001B[0;34m(self, target)\u001B[0m\n\u001B[1;32m   5746\u001B[0m \u001B[38;5;124;03m\"\"\"\u001B[39;00m\n\u001B[1;32m   5747\u001B[0m \u001B[38;5;124;03mGuaranteed return of an indexer even when non-unique.\u001B[39;00m\n\u001B[1;32m   5748\u001B[0m \n\u001B[0;32m   (...)\u001B[0m\n\u001B[1;32m   5761\u001B[0m \u001B[38;5;124;03marray([0, 2])\u001B[39;00m\n\u001B[1;32m   5762\u001B[0m \u001B[38;5;124;03m\"\"\"\u001B[39;00m\n\u001B[1;32m   5763\u001B[0m \u001B[38;5;28;01mif\u001B[39;00m \u001B[38;5;28mself\u001B[39m\u001B[38;5;241m.\u001B[39m_index_as_unique:\n\u001B[0;32m-> 5764\u001B[0m     \u001B[38;5;28;01mreturn\u001B[39;00m \u001B[38;5;28;43mself\u001B[39;49m\u001B[38;5;241;43m.\u001B[39;49m\u001B[43mget_indexer\u001B[49m\u001B[43m(\u001B[49m\u001B[43mtarget\u001B[49m\u001B[43m)\u001B[49m\n\u001B[1;32m   5765\u001B[0m indexer, _ \u001B[38;5;241m=\u001B[39m \u001B[38;5;28mself\u001B[39m\u001B[38;5;241m.\u001B[39mget_indexer_non_unique(target)\n\u001B[1;32m   5766\u001B[0m \u001B[38;5;28;01mreturn\u001B[39;00m indexer\n",
      "File \u001B[0;32m~/Desktop/Code/ft533/triangular_arbitrage/venv/lib/python3.10/site-packages/pandas/core/indexes/base.py:3784\u001B[0m, in \u001B[0;36mIndex.get_indexer\u001B[0;34m(self, target, method, limit, tolerance)\u001B[0m\n\u001B[1;32m   3779\u001B[0m     target \u001B[38;5;241m=\u001B[39m target\u001B[38;5;241m.\u001B[39mastype(dtype, copy\u001B[38;5;241m=\u001B[39m\u001B[38;5;28;01mFalse\u001B[39;00m)\n\u001B[1;32m   3780\u001B[0m     \u001B[38;5;28;01mreturn\u001B[39;00m this\u001B[38;5;241m.\u001B[39m_get_indexer(\n\u001B[1;32m   3781\u001B[0m         target, method\u001B[38;5;241m=\u001B[39mmethod, limit\u001B[38;5;241m=\u001B[39mlimit, tolerance\u001B[38;5;241m=\u001B[39mtolerance\n\u001B[1;32m   3782\u001B[0m     )\n\u001B[0;32m-> 3784\u001B[0m \u001B[38;5;28;01mreturn\u001B[39;00m \u001B[38;5;28;43mself\u001B[39;49m\u001B[38;5;241;43m.\u001B[39;49m\u001B[43m_get_indexer\u001B[49m\u001B[43m(\u001B[49m\u001B[43mtarget\u001B[49m\u001B[43m,\u001B[49m\u001B[43m \u001B[49m\u001B[43mmethod\u001B[49m\u001B[43m,\u001B[49m\u001B[43m \u001B[49m\u001B[43mlimit\u001B[49m\u001B[43m,\u001B[49m\u001B[43m \u001B[49m\u001B[43mtolerance\u001B[49m\u001B[43m)\u001B[49m\n",
      "File \u001B[0;32m~/Desktop/Code/ft533/triangular_arbitrage/venv/lib/python3.10/site-packages/pandas/core/indexes/base.py:3809\u001B[0m, in \u001B[0;36mIndex._get_indexer\u001B[0;34m(self, target, method, limit, tolerance)\u001B[0m\n\u001B[1;32m   3804\u001B[0m         \u001B[38;5;66;03m# error: \"IndexEngine\" has no attribute \"_extract_level_codes\"\u001B[39;00m\n\u001B[1;32m   3805\u001B[0m         tgt_values \u001B[38;5;241m=\u001B[39m engine\u001B[38;5;241m.\u001B[39m_extract_level_codes(  \u001B[38;5;66;03m# type: ignore[attr-defined]\u001B[39;00m\n\u001B[1;32m   3806\u001B[0m             target\n\u001B[1;32m   3807\u001B[0m         )\n\u001B[0;32m-> 3809\u001B[0m     indexer \u001B[38;5;241m=\u001B[39m \u001B[38;5;28;43mself\u001B[39;49m\u001B[38;5;241;43m.\u001B[39;49m\u001B[43m_engine\u001B[49m\u001B[38;5;241;43m.\u001B[39;49m\u001B[43mget_indexer\u001B[49m\u001B[43m(\u001B[49m\u001B[43mtgt_values\u001B[49m\u001B[43m)\u001B[49m\n\u001B[1;32m   3811\u001B[0m \u001B[38;5;28;01mreturn\u001B[39;00m ensure_platform_int(indexer)\n",
      "File \u001B[0;32mpandas/_libs/index.pyx:305\u001B[0m, in \u001B[0;36mpandas._libs.index.IndexEngine.get_indexer\u001B[0;34m()\u001B[0m\n",
      "File \u001B[0;32mpandas/_libs/hashtable_class_helper.pxi:5247\u001B[0m, in \u001B[0;36mpandas._libs.hashtable.PyObjectHashTable.lookup\u001B[0;34m()\u001B[0m\n",
      "\u001B[0;31mTypeError\u001B[0m: unhashable type: 'dict'"
     ]
    }
   ],
   "source": [
    "df_results.reset_index()"
   ],
   "metadata": {
    "collapsed": false,
    "pycharm": {
     "name": "#%%\n"
    }
   }
  },
  {
   "cell_type": "code",
   "execution_count": 41,
   "outputs": [
    {
     "data": {
      "text/plain": "          Paths         0\n0   USD.EUR.GBP -0.000033\n1   USD.GBP.EUR  0.000033\n2   USD.EUR.JPY -0.000003\n3   USD.JPY.EUR  0.000003\n4   USD.EUR.AUD  0.000010\n5   USD.AUD.EUR -0.000010\n6   USD.GBP.JPY  0.000017\n7   USD.JPY.GBP -0.000017\n8   USD.GBP.AUD  0.000013\n9   USD.AUD.GBP -0.000013\n10  USD.JPY.AUD -0.000317\n11  USD.AUD.JPY  0.000317\n12  EUR.GBP.JPY -0.000013\n13  EUR.JPY.GBP  0.000013\n14  EUR.GBP.AUD -0.000030\n15  EUR.AUD.GBP  0.000030\n16  EUR.JPY.AUD -0.000330\n17  EUR.AUD.JPY  0.000330\n18  GBP.JPY.AUD -0.000313\n19  GBP.AUD.JPY  0.000313",
      "text/html": "<div>\n<style scoped>\n    .dataframe tbody tr th:only-of-type {\n        vertical-align: middle;\n    }\n\n    .dataframe tbody tr th {\n        vertical-align: top;\n    }\n\n    .dataframe thead th {\n        text-align: right;\n    }\n</style>\n<table border=\"1\" class=\"dataframe\">\n  <thead>\n    <tr style=\"text-align: right;\">\n      <th></th>\n      <th>Paths</th>\n      <th>0</th>\n    </tr>\n  </thead>\n  <tbody>\n    <tr>\n      <th>0</th>\n      <td>USD.EUR.GBP</td>\n      <td>-0.000033</td>\n    </tr>\n    <tr>\n      <th>1</th>\n      <td>USD.GBP.EUR</td>\n      <td>0.000033</td>\n    </tr>\n    <tr>\n      <th>2</th>\n      <td>USD.EUR.JPY</td>\n      <td>-0.000003</td>\n    </tr>\n    <tr>\n      <th>3</th>\n      <td>USD.JPY.EUR</td>\n      <td>0.000003</td>\n    </tr>\n    <tr>\n      <th>4</th>\n      <td>USD.EUR.AUD</td>\n      <td>0.000010</td>\n    </tr>\n    <tr>\n      <th>5</th>\n      <td>USD.AUD.EUR</td>\n      <td>-0.000010</td>\n    </tr>\n    <tr>\n      <th>6</th>\n      <td>USD.GBP.JPY</td>\n      <td>0.000017</td>\n    </tr>\n    <tr>\n      <th>7</th>\n      <td>USD.JPY.GBP</td>\n      <td>-0.000017</td>\n    </tr>\n    <tr>\n      <th>8</th>\n      <td>USD.GBP.AUD</td>\n      <td>0.000013</td>\n    </tr>\n    <tr>\n      <th>9</th>\n      <td>USD.AUD.GBP</td>\n      <td>-0.000013</td>\n    </tr>\n    <tr>\n      <th>10</th>\n      <td>USD.JPY.AUD</td>\n      <td>-0.000317</td>\n    </tr>\n    <tr>\n      <th>11</th>\n      <td>USD.AUD.JPY</td>\n      <td>0.000317</td>\n    </tr>\n    <tr>\n      <th>12</th>\n      <td>EUR.GBP.JPY</td>\n      <td>-0.000013</td>\n    </tr>\n    <tr>\n      <th>13</th>\n      <td>EUR.JPY.GBP</td>\n      <td>0.000013</td>\n    </tr>\n    <tr>\n      <th>14</th>\n      <td>EUR.GBP.AUD</td>\n      <td>-0.000030</td>\n    </tr>\n    <tr>\n      <th>15</th>\n      <td>EUR.AUD.GBP</td>\n      <td>0.000030</td>\n    </tr>\n    <tr>\n      <th>16</th>\n      <td>EUR.JPY.AUD</td>\n      <td>-0.000330</td>\n    </tr>\n    <tr>\n      <th>17</th>\n      <td>EUR.AUD.JPY</td>\n      <td>0.000330</td>\n    </tr>\n    <tr>\n      <th>18</th>\n      <td>GBP.JPY.AUD</td>\n      <td>-0.000313</td>\n    </tr>\n    <tr>\n      <th>19</th>\n      <td>GBP.AUD.JPY</td>\n      <td>0.000313</td>\n    </tr>\n  </tbody>\n</table>\n</div>"
     },
     "execution_count": 41,
     "metadata": {},
     "output_type": "execute_result"
    }
   ],
   "source": [
    "df_results.reset_index().rename(columns={'index':'Paths','0':'Profits'})"
   ],
   "metadata": {
    "collapsed": false,
    "pycharm": {
     "name": "#%%\n"
    }
   }
  },
  {
   "cell_type": "code",
   "execution_count": null,
   "outputs": [],
   "source": [],
   "metadata": {
    "collapsed": false,
    "pycharm": {
     "name": "#%%\n"
    }
   }
  }
 ],
 "metadata": {
  "kernelspec": {
   "display_name": "Python 3",
   "language": "python",
   "name": "python3"
  },
  "language_info": {
   "codemirror_mode": {
    "name": "ipython",
    "version": 2
   },
   "file_extension": ".py",
   "mimetype": "text/x-python",
   "name": "python",
   "nbconvert_exporter": "python",
   "pygments_lexer": "ipython2",
   "version": "2.7.6"
  }
 },
 "nbformat": 4,
 "nbformat_minor": 0
}