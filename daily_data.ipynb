{
 "cells": [
  {
   "cell_type": "code",
   "execution_count": 10,
   "metadata": {
    "collapsed": true,
    "pycharm": {
     "name": "#%%\n"
    }
   },
   "outputs": [],
   "source": [
    "import time\n",
    "from pandas import DataFrame\n",
    "from ibapi.contract import Contract\n",
    "from interactive_trader import *\n",
    "from interactive_trader.ibkr_app import ibkr_app"
   ]
  },
  {
   "cell_type": "code",
   "execution_count": 11,
   "outputs": [],
   "source": [
    "currencies = ['USD', 'EUR', 'GBP', 'JPY', 'AUD']\n"
   ],
   "metadata": {
    "collapsed": false,
    "pycharm": {
     "name": "#%%\n"
    }
   }
  },
  {
   "cell_type": "code",
   "execution_count": 15,
   "outputs": [],
   "source": [
    "def get_price(base, quote):\n",
    "    # Create a contract object\n",
    "    contract = Contract()\n",
    "    contract.symbol = base\n",
    "    contract.secType = 'CASH'\n",
    "    contract.exchange = 'IDEALPRO'  # 'IDEALPRO' is the currency exchange.\n",
    "    contract.currency = quote\n",
    "    historical_data = fetch_historical_data(contract, durationStr='30 D', barSizeSetting='1 day')\n",
    "    return historical_data"
   ],
   "metadata": {
    "collapsed": false,
    "pycharm": {
     "name": "#%%\n"
    }
   }
  },
  {
   "cell_type": "code",
   "execution_count": 14,
   "outputs": [
    {
     "name": "stdout",
     "output_type": "stream",
     "text": [
      "cannot fetch USD.USD\n",
      "cannot fetch USD.EUR\n",
      "cannot fetch USD.GBP\n",
      "cannot fetch USD.JPY\n",
      "cannot fetch USD.AUD\n",
      "cannot fetch EUR.USD\n",
      "cannot fetch EUR.EUR\n",
      "cannot fetch EUR.GBP\n"
     ]
    },
    {
     "ename": "KeyboardInterrupt",
     "evalue": "",
     "output_type": "error",
     "traceback": [
      "\u001B[1;31m---------------------------------------------------------------------------\u001B[0m",
      "\u001B[1;31mKeyboardInterrupt\u001B[0m                         Traceback (most recent call last)",
      "Input \u001B[1;32mIn [14]\u001B[0m, in \u001B[0;36m<cell line: 1>\u001B[1;34m()\u001B[0m\n\u001B[0;32m      1\u001B[0m \u001B[38;5;28;01mfor\u001B[39;00m cur1 \u001B[38;5;129;01min\u001B[39;00m currencies:\n\u001B[0;32m      2\u001B[0m     \u001B[38;5;28;01mfor\u001B[39;00m cur2 \u001B[38;5;129;01min\u001B[39;00m currencies:\n\u001B[1;32m----> 3\u001B[0m         \u001B[43mtime\u001B[49m\u001B[38;5;241;43m.\u001B[39;49m\u001B[43msleep\u001B[49m\u001B[43m(\u001B[49m\u001B[38;5;241;43m1\u001B[39;49m\u001B[43m)\u001B[49m\n\u001B[0;32m      4\u001B[0m         \u001B[38;5;28;01mtry\u001B[39;00m:\n\u001B[0;32m      5\u001B[0m             \u001B[38;5;28mprint\u001B[39m(cur1 \u001B[38;5;241m+\u001B[39m \u001B[38;5;124m'\u001B[39m\u001B[38;5;124m.\u001B[39m\u001B[38;5;124m'\u001B[39m \u001B[38;5;241m+\u001B[39mcur2 \u001B[38;5;241m+\u001B[39m \u001B[38;5;124m'\u001B[39m\u001B[38;5;124m:\u001B[39m\u001B[38;5;124m'\u001B[39m \u001B[38;5;241m+\u001B[39m get_price(cur1,cur2))\n",
      "\u001B[1;31mKeyboardInterrupt\u001B[0m: "
     ]
    }
   ],
   "source": [
    "for cur1 in currencies:\n",
    "    for cur2 in currencies:\n",
    "        time.sleep(1)\n",
    "        try:\n",
    "            print(cur1 + '.' + cur2 + ':' + get_price(cur1, cur2))\n",
    "            continue\n"
   ],
   "metadata": {
    "collapsed": false,
    "pycharm": {
     "name": "#%%\n"
    }
   }
  },
  {
   "cell_type": "code",
   "execution_count": 8,
   "outputs": [
    {
     "name": "stdout",
     "output_type": "stream",
     "text": [
      "tickerId = 1\n"
     ]
    },
    {
     "data": {
      "text/plain": "1.08038"
     },
     "execution_count": 8,
     "metadata": {},
     "output_type": "execute_result"
    }
   ],
   "source": [
    "value = \"EUR.USD\"  # This is what your text input looks like on your app\n"
   ],
   "metadata": {
    "collapsed": false,
    "pycharm": {
     "name": "#%%\n"
    }
   }
  },
  {
   "cell_type": "code",
   "execution_count": 17,
   "outputs": [
    {
     "name": "stdout",
     "output_type": "stream",
     "text": [
      "tickerId = 1\n"
     ]
    }
   ],
   "source": [
    "df_EUR_USD = get_price(\"EUR\", \"USD\")"
   ],
   "metadata": {
    "collapsed": false,
    "pycharm": {
     "name": "#%%\n"
    }
   }
  },
  {
   "cell_type": "code",
   "execution_count": 20,
   "outputs": [],
   "source": [
    "df_EUR_USD = df_EUR_USD[['date', 'close']]\n",
    "df_EUR_USD.to_csv('EUR_USD.csv')"
   ],
   "metadata": {
    "collapsed": false,
    "pycharm": {
     "name": "#%%\n"
    }
   }
  },
  {
   "cell_type": "code",
   "execution_count": 21,
   "outputs": [
    {
     "data": {
      "text/plain": "        date     close\n0   20220308  1.089865\n1   20220309   1.10757\n2   20220310    1.0987\n3   20220311  1.091435\n4   20220314  1.094015\n5   20220315    1.0956\n6   20220316  1.103515\n7   20220317  1.109245\n8   20220318   1.10508\n9   20220321    1.1016\n10  20220322   1.10294\n11  20220323  1.100395\n12  20220324  1.099695\n13  20220325   1.09828\n14  20220328  1.098575\n15  20220329   1.10863\n16  20220330   1.11579\n17  20220331   1.10668\n18  20220401  1.104615\n19  20220404  1.097225\n20  20220405  1.090475\n21  20220406  1.089695\n22  20220407  1.087985\n23  20220408  1.087655\n24  20220411  1.088385\n25  20220412  1.082755\n26  20220413  1.089075\n27  20220414  1.082925\n28  20220415  1.081015\n29  20220418   1.08095",
      "text/html": "<div>\n<style scoped>\n    .dataframe tbody tr th:only-of-type {\n        vertical-align: middle;\n    }\n\n    .dataframe tbody tr th {\n        vertical-align: top;\n    }\n\n    .dataframe thead th {\n        text-align: right;\n    }\n</style>\n<table border=\"1\" class=\"dataframe\">\n  <thead>\n    <tr style=\"text-align: right;\">\n      <th></th>\n      <th>date</th>\n      <th>close</th>\n    </tr>\n  </thead>\n  <tbody>\n    <tr>\n      <th>0</th>\n      <td>20220308</td>\n      <td>1.089865</td>\n    </tr>\n    <tr>\n      <th>1</th>\n      <td>20220309</td>\n      <td>1.10757</td>\n    </tr>\n    <tr>\n      <th>2</th>\n      <td>20220310</td>\n      <td>1.0987</td>\n    </tr>\n    <tr>\n      <th>3</th>\n      <td>20220311</td>\n      <td>1.091435</td>\n    </tr>\n    <tr>\n      <th>4</th>\n      <td>20220314</td>\n      <td>1.094015</td>\n    </tr>\n    <tr>\n      <th>5</th>\n      <td>20220315</td>\n      <td>1.0956</td>\n    </tr>\n    <tr>\n      <th>6</th>\n      <td>20220316</td>\n      <td>1.103515</td>\n    </tr>\n    <tr>\n      <th>7</th>\n      <td>20220317</td>\n      <td>1.109245</td>\n    </tr>\n    <tr>\n      <th>8</th>\n      <td>20220318</td>\n      <td>1.10508</td>\n    </tr>\n    <tr>\n      <th>9</th>\n      <td>20220321</td>\n      <td>1.1016</td>\n    </tr>\n    <tr>\n      <th>10</th>\n      <td>20220322</td>\n      <td>1.10294</td>\n    </tr>\n    <tr>\n      <th>11</th>\n      <td>20220323</td>\n      <td>1.100395</td>\n    </tr>\n    <tr>\n      <th>12</th>\n      <td>20220324</td>\n      <td>1.099695</td>\n    </tr>\n    <tr>\n      <th>13</th>\n      <td>20220325</td>\n      <td>1.09828</td>\n    </tr>\n    <tr>\n      <th>14</th>\n      <td>20220328</td>\n      <td>1.098575</td>\n    </tr>\n    <tr>\n      <th>15</th>\n      <td>20220329</td>\n      <td>1.10863</td>\n    </tr>\n    <tr>\n      <th>16</th>\n      <td>20220330</td>\n      <td>1.11579</td>\n    </tr>\n    <tr>\n      <th>17</th>\n      <td>20220331</td>\n      <td>1.10668</td>\n    </tr>\n    <tr>\n      <th>18</th>\n      <td>20220401</td>\n      <td>1.104615</td>\n    </tr>\n    <tr>\n      <th>19</th>\n      <td>20220404</td>\n      <td>1.097225</td>\n    </tr>\n    <tr>\n      <th>20</th>\n      <td>20220405</td>\n      <td>1.090475</td>\n    </tr>\n    <tr>\n      <th>21</th>\n      <td>20220406</td>\n      <td>1.089695</td>\n    </tr>\n    <tr>\n      <th>22</th>\n      <td>20220407</td>\n      <td>1.087985</td>\n    </tr>\n    <tr>\n      <th>23</th>\n      <td>20220408</td>\n      <td>1.087655</td>\n    </tr>\n    <tr>\n      <th>24</th>\n      <td>20220411</td>\n      <td>1.088385</td>\n    </tr>\n    <tr>\n      <th>25</th>\n      <td>20220412</td>\n      <td>1.082755</td>\n    </tr>\n    <tr>\n      <th>26</th>\n      <td>20220413</td>\n      <td>1.089075</td>\n    </tr>\n    <tr>\n      <th>27</th>\n      <td>20220414</td>\n      <td>1.082925</td>\n    </tr>\n    <tr>\n      <th>28</th>\n      <td>20220415</td>\n      <td>1.081015</td>\n    </tr>\n    <tr>\n      <th>29</th>\n      <td>20220418</td>\n      <td>1.08095</td>\n    </tr>\n  </tbody>\n</table>\n</div>"
     },
     "execution_count": 21,
     "metadata": {},
     "output_type": "execute_result"
    }
   ],
   "source": [
    "df_EUR_USD"
   ],
   "metadata": {
    "collapsed": false,
    "pycharm": {
     "name": "#%%\n"
    }
   }
  },
  {
   "cell_type": "code",
   "execution_count": null,
   "outputs": [],
   "source": [],
   "metadata": {
    "collapsed": false,
    "pycharm": {
     "name": "#%%\n"
    }
   }
  }
 ],
 "metadata": {
  "kernelspec": {
   "display_name": "Python 3",
   "language": "python",
   "name": "python3"
  },
  "language_info": {
   "codemirror_mode": {
    "name": "ipython",
    "version": 2
   },
   "file_extension": ".py",
   "mimetype": "text/x-python",
   "name": "python",
   "nbconvert_exporter": "python",
   "pygments_lexer": "ipython2",
   "version": "2.7.6"
  }
 },
 "nbformat": 4,
 "nbformat_minor": 0
}