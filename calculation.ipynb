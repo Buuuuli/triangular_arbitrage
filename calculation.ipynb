{
 "cells": [
  {
   "cell_type": "code",
   "execution_count": 2,
   "metadata": {
    "collapsed": true
   },
   "outputs": [],
   "source": [
    "from pandas import DataFrame\n",
    "from ibapi.contract import Contract\n",
    "from interactive_trader import *"
   ]
  },
  {
   "cell_type": "code",
   "execution_count": 3,
   "outputs": [],
   "source": [
    "currencies = ['USD', 'EUR', 'GBP', 'JPY', 'AUD']"
   ],
   "metadata": {
    "collapsed": false,
    "pycharm": {
     "name": "#%%\n"
    }
   }
  },
  {
   "cell_type": "code",
   "execution_count": 9,
   "outputs": [],
   "source": [
    "def getPrice(value):\n",
    "    # Create a contract object\n",
    "    contract = Contract()\n",
    "    contract.symbol = value.split(\".\")[0]\n",
    "    contract.secType = 'CASH'\n",
    "    contract.exchange = 'IDEALPRO'  # 'IDEALPRO' is the currency exchange.\n",
    "    contract.currency = value.split(\".\")[1]\n",
    "    historical_data = fetch_historical_data(contract, durationStr='2 D', barSizeSetting='1 day')\n",
    "    return historical_data.iloc[0].close"
   ],
   "metadata": {
    "collapsed": false,
    "pycharm": {
     "name": "#%%\n"
    }
   }
  },
  {
   "cell_type": "code",
   "execution_count": 10,
   "outputs": [
    {
     "ename": "Exception",
     "evalue": "('fetch_historical_data', 'timeout', 'historical_data not received')",
     "output_type": "error",
     "traceback": [
      "\u001B[0;31m---------------------------------------------------------------------------\u001B[0m",
      "\u001B[0;31mException\u001B[0m                                 Traceback (most recent call last)",
      "Input \u001B[0;32mIn [10]\u001B[0m, in \u001B[0;36m<cell line: 2>\u001B[0;34m()\u001B[0m\n\u001B[1;32m      1\u001B[0m value \u001B[38;5;241m=\u001B[39m \u001B[38;5;124m\"\u001B[39m\u001B[38;5;124mUSD.EUR\u001B[39m\u001B[38;5;124m\"\u001B[39m  \u001B[38;5;66;03m# This is what your text input looks like on your app\u001B[39;00m\n\u001B[0;32m----> 2\u001B[0m \u001B[43mgetPrice\u001B[49m\u001B[43m(\u001B[49m\u001B[43mvalue\u001B[49m\u001B[43m)\u001B[49m\n",
      "Input \u001B[0;32mIn [9]\u001B[0m, in \u001B[0;36mgetPrice\u001B[0;34m(value)\u001B[0m\n\u001B[1;32m      6\u001B[0m contract\u001B[38;5;241m.\u001B[39mexchange \u001B[38;5;241m=\u001B[39m \u001B[38;5;124m'\u001B[39m\u001B[38;5;124mIDEALPRO\u001B[39m\u001B[38;5;124m'\u001B[39m  \u001B[38;5;66;03m# 'IDEALPRO' is the currency exchange.\u001B[39;00m\n\u001B[1;32m      7\u001B[0m contract\u001B[38;5;241m.\u001B[39mcurrency \u001B[38;5;241m=\u001B[39m value\u001B[38;5;241m.\u001B[39msplit(\u001B[38;5;124m\"\u001B[39m\u001B[38;5;124m.\u001B[39m\u001B[38;5;124m\"\u001B[39m)[\u001B[38;5;241m1\u001B[39m]\n\u001B[0;32m----> 8\u001B[0m historical_data \u001B[38;5;241m=\u001B[39m \u001B[43mfetch_historical_data\u001B[49m\u001B[43m(\u001B[49m\u001B[43mcontract\u001B[49m\u001B[43m,\u001B[49m\u001B[43m \u001B[49m\u001B[43mdurationStr\u001B[49m\u001B[38;5;241;43m=\u001B[39;49m\u001B[38;5;124;43m'\u001B[39;49m\u001B[38;5;124;43m2 D\u001B[39;49m\u001B[38;5;124;43m'\u001B[39;49m\u001B[43m,\u001B[49m\u001B[43m \u001B[49m\u001B[43mbarSizeSetting\u001B[49m\u001B[38;5;241;43m=\u001B[39;49m\u001B[38;5;124;43m'\u001B[39;49m\u001B[38;5;124;43m1 day\u001B[39;49m\u001B[38;5;124;43m'\u001B[39;49m\u001B[43m)\u001B[49m\n\u001B[1;32m      9\u001B[0m \u001B[38;5;28;01mreturn\u001B[39;00m historical_data\u001B[38;5;241m.\u001B[39miloc[\u001B[38;5;241m0\u001B[39m]\u001B[38;5;241m.\u001B[39mclose\n",
      "File \u001B[0;32m~/Desktop/Code/ft533/triangular_arbitrage/interactive_trader/synchronous_functions.py:126\u001B[0m, in \u001B[0;36mfetch_historical_data\u001B[0;34m(contract, endDateTime, durationStr, barSizeSetting, whatToShow, useRTH, hostname, port, client_id)\u001B[0m\n\u001B[1;32m    124\u001B[0m     \u001B[38;5;28;01mif\u001B[39;00m (datetime\u001B[38;5;241m.\u001B[39mnow() \u001B[38;5;241m-\u001B[39m start_time)\u001B[38;5;241m.\u001B[39mseconds \u001B[38;5;241m>\u001B[39m timeout_sec:\n\u001B[1;32m    125\u001B[0m         app\u001B[38;5;241m.\u001B[39mdisconnect()\n\u001B[0;32m--> 126\u001B[0m         \u001B[38;5;28;01mraise\u001B[39;00m \u001B[38;5;167;01mException\u001B[39;00m(\n\u001B[1;32m    127\u001B[0m             \u001B[38;5;124m\"\u001B[39m\u001B[38;5;124mfetch_historical_data\u001B[39m\u001B[38;5;124m\"\u001B[39m,\n\u001B[1;32m    128\u001B[0m             \u001B[38;5;124m\"\u001B[39m\u001B[38;5;124mtimeout\u001B[39m\u001B[38;5;124m\"\u001B[39m,\n\u001B[1;32m    129\u001B[0m             \u001B[38;5;124m\"\u001B[39m\u001B[38;5;124mhistorical_data not received\u001B[39m\u001B[38;5;124m\"\u001B[39m\n\u001B[1;32m    130\u001B[0m         )\n\u001B[1;32m    131\u001B[0m app\u001B[38;5;241m.\u001B[39mdisconnect()\n\u001B[1;32m    132\u001B[0m \u001B[38;5;28;01mreturn\u001B[39;00m app\u001B[38;5;241m.\u001B[39mhistorical_data\n",
      "\u001B[0;31mException\u001B[0m: ('fetch_historical_data', 'timeout', 'historical_data not received')"
     ]
    }
   ],
   "source": [
    "value = \"USD.EUR\"  # This is what your text input looks like on your app\n",
    "getPrice(value)"
   ],
   "metadata": {
    "collapsed": false,
    "pycharm": {
     "name": "#%%\n"
    }
   }
  },
  {
   "cell_type": "code",
   "execution_count": 37,
   "outputs": [
    {
     "name": "stdout",
     "output_type": "stream",
     "text": [
      "\"USD.EUR\"\n",
      "\"USD.GBP\"\n",
      "\"USD.JPY\"\n",
      "\"USD.AUD\"\n",
      "\"EUR.GBP\"\n",
      "\"EUR.JPY\"\n",
      "\"EUR.AUD\"\n",
      "\"GBP.JPY\"\n",
      "\"GBP.AUD\"\n",
      "\"JPY.AUD\"\n"
     ]
    }
   ],
   "source": [
    "for i in range(0, len(currencies)):\n",
    "    for j in range(i + 1, len(currencies)):\n",
    "        value = '\\\"' + currencies[i] + \".\" + currencies[j] + '\\\"'\n",
    "        print(value)"
   ],
   "metadata": {
    "collapsed": false,
    "pycharm": {
     "name": "#%%\n"
    }
   }
  },
  {
   "cell_type": "code",
   "execution_count": 38,
   "outputs": [
    {
     "ename": "Exception",
     "evalue": "('fetch_historical_data', 'timeout', 'historical_data not received')",
     "output_type": "error",
     "traceback": [
      "\u001B[0;31m---------------------------------------------------------------------------\u001B[0m",
      "\u001B[0;31mException\u001B[0m                                 Traceback (most recent call last)",
      "Input \u001B[0;32mIn [38]\u001B[0m, in \u001B[0;36m<cell line: 2>\u001B[0;34m()\u001B[0m\n\u001B[1;32m      1\u001B[0m df \u001B[38;5;241m=\u001B[39m DataFrame()\n\u001B[0;32m----> 2\u001B[0m df[value] \u001B[38;5;241m=\u001B[39m \u001B[43mgetPrice\u001B[49m\u001B[43m(\u001B[49m\u001B[43mvalue\u001B[49m\u001B[43m)\u001B[49m\n\u001B[1;32m      3\u001B[0m df\n",
      "Input \u001B[0;32mIn [28]\u001B[0m, in \u001B[0;36mgetPrice\u001B[0;34m(value)\u001B[0m\n\u001B[1;32m      6\u001B[0m contract\u001B[38;5;241m.\u001B[39mexchange \u001B[38;5;241m=\u001B[39m \u001B[38;5;124m'\u001B[39m\u001B[38;5;124mIDEALPRO\u001B[39m\u001B[38;5;124m'\u001B[39m  \u001B[38;5;66;03m# 'IDEALPRO' is the currency exchange.\u001B[39;00m\n\u001B[1;32m      7\u001B[0m contract\u001B[38;5;241m.\u001B[39mcurrency \u001B[38;5;241m=\u001B[39m value\u001B[38;5;241m.\u001B[39msplit(\u001B[38;5;124m\"\u001B[39m\u001B[38;5;124m.\u001B[39m\u001B[38;5;124m\"\u001B[39m)[\u001B[38;5;241m1\u001B[39m]\n\u001B[0;32m----> 8\u001B[0m historical_data \u001B[38;5;241m=\u001B[39m \u001B[43mfetch_historical_data\u001B[49m\u001B[43m(\u001B[49m\u001B[43mcontract\u001B[49m\u001B[43m,\u001B[49m\u001B[43m \u001B[49m\u001B[43mdurationStr\u001B[49m\u001B[38;5;241;43m=\u001B[39;49m\u001B[38;5;124;43m'\u001B[39;49m\u001B[38;5;124;43m1 D\u001B[39;49m\u001B[38;5;124;43m'\u001B[39;49m\u001B[43m,\u001B[49m\u001B[43m \u001B[49m\u001B[43mbarSizeSetting\u001B[49m\u001B[38;5;241;43m=\u001B[39;49m\u001B[38;5;124;43m'\u001B[39;49m\u001B[38;5;124;43m1 day\u001B[39;49m\u001B[38;5;124;43m'\u001B[39;49m\u001B[43m)\u001B[49m\n\u001B[1;32m      9\u001B[0m \u001B[38;5;28;01mreturn\u001B[39;00m historical_data\u001B[38;5;241m.\u001B[39miloc[\u001B[38;5;241m0\u001B[39m]\u001B[38;5;241m.\u001B[39mclose\n",
      "File \u001B[0;32m~/Desktop/Code/ft533/triangular_arbitrage/interactive_trader/synchronous_functions.py:126\u001B[0m, in \u001B[0;36mfetch_historical_data\u001B[0;34m(contract, endDateTime, durationStr, barSizeSetting, whatToShow, useRTH, hostname, port, client_id)\u001B[0m\n\u001B[1;32m    124\u001B[0m     \u001B[38;5;28;01mif\u001B[39;00m (datetime\u001B[38;5;241m.\u001B[39mnow() \u001B[38;5;241m-\u001B[39m start_time)\u001B[38;5;241m.\u001B[39mseconds \u001B[38;5;241m>\u001B[39m timeout_sec:\n\u001B[1;32m    125\u001B[0m         app\u001B[38;5;241m.\u001B[39mdisconnect()\n\u001B[0;32m--> 126\u001B[0m         \u001B[38;5;28;01mraise\u001B[39;00m \u001B[38;5;167;01mException\u001B[39;00m(\n\u001B[1;32m    127\u001B[0m             \u001B[38;5;124m\"\u001B[39m\u001B[38;5;124mfetch_historical_data\u001B[39m\u001B[38;5;124m\"\u001B[39m,\n\u001B[1;32m    128\u001B[0m             \u001B[38;5;124m\"\u001B[39m\u001B[38;5;124mtimeout\u001B[39m\u001B[38;5;124m\"\u001B[39m,\n\u001B[1;32m    129\u001B[0m             \u001B[38;5;124m\"\u001B[39m\u001B[38;5;124mhistorical_data not received\u001B[39m\u001B[38;5;124m\"\u001B[39m\n\u001B[1;32m    130\u001B[0m         )\n\u001B[1;32m    131\u001B[0m app\u001B[38;5;241m.\u001B[39mdisconnect()\n\u001B[1;32m    132\u001B[0m \u001B[38;5;28;01mreturn\u001B[39;00m app\u001B[38;5;241m.\u001B[39mhistorical_data\n",
      "\u001B[0;31mException\u001B[0m: ('fetch_historical_data', 'timeout', 'historical_data not received')"
     ]
    }
   ],
   "source": [
    "df = DataFrame()\n",
    "df[value] = getPrice(value)\n",
    "df"
   ],
   "metadata": {
    "collapsed": false,
    "pycharm": {
     "name": "#%%\n"
    }
   }
  },
  {
   "cell_type": "code",
   "execution_count": 36,
   "outputs": [
    {
     "data": {
      "text/plain": "'JPY.AUD'"
     },
     "execution_count": 36,
     "metadata": {},
     "output_type": "execute_result"
    }
   ],
   "source": [
    "value"
   ],
   "metadata": {
    "collapsed": false,
    "pycharm": {
     "name": "#%%\n"
    }
   }
  },
  {
   "cell_type": "code",
   "execution_count": null,
   "outputs": [],
   "source": [],
   "metadata": {
    "collapsed": false,
    "pycharm": {
     "name": "#%%\n"
    }
   }
  }
 ],
 "metadata": {
  "kernelspec": {
   "display_name": "Python 3",
   "language": "python",
   "name": "python3"
  },
  "language_info": {
   "codemirror_mode": {
    "name": "ipython",
    "version": 2
   },
   "file_extension": ".py",
   "mimetype": "text/x-python",
   "name": "python",
   "nbconvert_exporter": "python",
   "pygments_lexer": "ipython2",
   "version": "2.7.6"
  }
 },
 "nbformat": 4,
 "nbformat_minor": 0
}