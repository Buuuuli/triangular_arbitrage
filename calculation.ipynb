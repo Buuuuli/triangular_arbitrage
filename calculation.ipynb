{
 "cells": [
  {
   "cell_type": "code",
   "execution_count": 1,
   "outputs": [],
   "source": [
    "import yahoo"
   ],
   "metadata": {
    "collapsed": false,
    "pycharm": {
     "name": "#%%\n"
    }
   }
  },
  {
   "cell_type": "code",
   "execution_count": 2,
   "outputs": [
    {
     "name": "stdout",
     "output_type": "stream",
     "text": [
      "[*********************100%***********************]  1 of 1 completed\n",
      "[*********************100%***********************]  1 of 1 completed\n",
      "[*********************100%***********************]  1 of 1 completed\n",
      "[*********************100%***********************]  1 of 1 completed\n",
      "[*********************100%***********************]  1 of 1 completed\n",
      "[*********************100%***********************]  1 of 1 completed\n",
      "[*********************100%***********************]  1 of 1 completed\n",
      "[*********************100%***********************]  1 of 1 completed\n",
      "[*********************100%***********************]  1 of 1 completed\n",
      "[*********************100%***********************]  1 of 1 completed\n",
      "[*********************100%***********************]  1 of 1 completed\n",
      "[*********************100%***********************]  1 of 1 completed\n",
      "[*********************100%***********************]  1 of 1 completed\n",
      "[*********************100%***********************]  1 of 1 completed\n",
      "[*********************100%***********************]  1 of 1 completed\n",
      "[*********************100%***********************]  1 of 1 completed\n",
      "[*********************100%***********************]  1 of 1 completed\n",
      "[*********************100%***********************]  1 of 1 completed\n",
      "[*********************100%***********************]  1 of 1 completed\n",
      "[*********************100%***********************]  1 of 1 completed\n",
      "[*********************100%***********************]  1 of 1 completed\n",
      "[*********************100%***********************]  1 of 1 completed\n",
      "[*********************100%***********************]  1 of 1 completed\n",
      "[*********************100%***********************]  1 of 1 completed\n",
      "[*********************100%***********************]  1 of 1 completed\n",
      "[*********************100%***********************]  1 of 1 completed\n",
      "[*********************100%***********************]  1 of 1 completed\n",
      "[*********************100%***********************]  1 of 1 completed\n",
      "[*********************100%***********************]  1 of 1 completed\n",
      "[*********************100%***********************]  1 of 1 completed\n",
      "[*********************100%***********************]  1 of 1 completed\n",
      "[*********************100%***********************]  1 of 1 completed\n",
      "[*********************100%***********************]  1 of 1 completed\n",
      "[*********************100%***********************]  1 of 1 completed\n",
      "[*********************100%***********************]  1 of 1 completed\n",
      "[*********************100%***********************]  1 of 1 completed\n",
      "[*********************100%***********************]  1 of 1 completed\n",
      "[*********************100%***********************]  1 of 1 completed\n",
      "[*********************100%***********************]  1 of 1 completed\n",
      "[*********************100%***********************]  1 of 1 completed\n",
      "[*********************100%***********************]  1 of 1 completed\n",
      "[*********************100%***********************]  1 of 1 completed\n"
     ]
    }
   ],
   "source": [
    "currencies = ['USD', 'EUR', 'GBP', 'JPY', 'AUD', 'NZD', 'CHF']\n",
    "# currencies = ['PEN','ARS', 'BRL','MXN', 'MYR']\n",
    "exchange_rate = yahoo.fetch_all(currencies)\n"
   ],
   "metadata": {
    "collapsed": false,
    "pycharm": {
     "name": "#%%\n"
    }
   }
  },
  {
   "cell_type": "code",
   "execution_count": 3,
   "outputs": [
    {
     "data": {
      "text/plain": "            USD         EUR         GBP       JPY      AUD        NZD  \\\nUSD           1    1.085423    1.303951   0.00783  0.74544   0.680782   \nEUR      0.9213           1     1.20133  0.007214  0.68659      0.627   \nGBP      0.7669      0.8321           1  0.005998  0.57144    0.52182   \nJPY  127.717003  138.598999  166.542007         1   95.194  86.931999   \nAUD     1.34149     1.45587     1.74931  0.010499        1    0.91286   \nNZD      1.4689     1.59413     1.91548  0.011503  1.09492          1   \nCHF       0.947      1.0277      1.2346  0.007405  0.70585    0.64455   \n\n            CHF  \nUSD    1.056022  \nEUR      0.9724  \nGBP      0.8092  \nJPY  134.858002  \nAUD     1.41607  \nNZD      1.5508  \nCHF           1  ",
      "text/html": "<div>\n<style scoped>\n    .dataframe tbody tr th:only-of-type {\n        vertical-align: middle;\n    }\n\n    .dataframe tbody tr th {\n        vertical-align: top;\n    }\n\n    .dataframe thead th {\n        text-align: right;\n    }\n</style>\n<table border=\"1\" class=\"dataframe\">\n  <thead>\n    <tr style=\"text-align: right;\">\n      <th></th>\n      <th>USD</th>\n      <th>EUR</th>\n      <th>GBP</th>\n      <th>JPY</th>\n      <th>AUD</th>\n      <th>NZD</th>\n      <th>CHF</th>\n    </tr>\n  </thead>\n  <tbody>\n    <tr>\n      <th>USD</th>\n      <td>1</td>\n      <td>1.085423</td>\n      <td>1.303951</td>\n      <td>0.00783</td>\n      <td>0.74544</td>\n      <td>0.680782</td>\n      <td>1.056022</td>\n    </tr>\n    <tr>\n      <th>EUR</th>\n      <td>0.9213</td>\n      <td>1</td>\n      <td>1.20133</td>\n      <td>0.007214</td>\n      <td>0.68659</td>\n      <td>0.627</td>\n      <td>0.9724</td>\n    </tr>\n    <tr>\n      <th>GBP</th>\n      <td>0.7669</td>\n      <td>0.8321</td>\n      <td>1</td>\n      <td>0.005998</td>\n      <td>0.57144</td>\n      <td>0.52182</td>\n      <td>0.8092</td>\n    </tr>\n    <tr>\n      <th>JPY</th>\n      <td>127.717003</td>\n      <td>138.598999</td>\n      <td>166.542007</td>\n      <td>1</td>\n      <td>95.194</td>\n      <td>86.931999</td>\n      <td>134.858002</td>\n    </tr>\n    <tr>\n      <th>AUD</th>\n      <td>1.34149</td>\n      <td>1.45587</td>\n      <td>1.74931</td>\n      <td>0.010499</td>\n      <td>1</td>\n      <td>0.91286</td>\n      <td>1.41607</td>\n    </tr>\n    <tr>\n      <th>NZD</th>\n      <td>1.4689</td>\n      <td>1.59413</td>\n      <td>1.91548</td>\n      <td>0.011503</td>\n      <td>1.09492</td>\n      <td>1</td>\n      <td>1.5508</td>\n    </tr>\n    <tr>\n      <th>CHF</th>\n      <td>0.947</td>\n      <td>1.0277</td>\n      <td>1.2346</td>\n      <td>0.007405</td>\n      <td>0.70585</td>\n      <td>0.64455</td>\n      <td>1</td>\n    </tr>\n  </tbody>\n</table>\n</div>"
     },
     "execution_count": 3,
     "metadata": {},
     "output_type": "execute_result"
    }
   ],
   "source": [
    "exchange_rate"
   ],
   "metadata": {
    "collapsed": false,
    "pycharm": {
     "name": "#%%\n"
    }
   }
  },
  {
   "cell_type": "code",
   "execution_count": 4,
   "outputs": [
    {
     "name": "stdout",
     "output_type": "stream",
     "text": [
      "diff USD.EUR: -2.118631148295691e-08\n",
      "diff USD.GBP: 3.4460273856673496e-08\n",
      "diff USD.JPY: 0.0029987772532678036\n",
      "USD.JPY\n",
      "diff USD.AUD: 2.2449512471212074e-08\n",
      "diff USD.NZD: -2.1659553706143697e-08\n",
      "diff USD.CHF: 4.9994000026698515e-05\n",
      "diff EUR.USD: -2.496049567035641e-08\n",
      "diff EUR.GBP: -0.0003108076605943255\n",
      "diff EUR.JPY: -0.014590401339802384\n",
      "EUR.JPY\n",
      "diff EUR.AUD: -0.0006032295477425009\n",
      "diff EUR.NZD: -0.0007663580214618548\n",
      "diff EUR.CHF: -0.0006834237807260557\n",
      "diff GBP.USD: 5.8592396934287194e-08\n",
      "diff GBP.EUR: -0.0004487231845646811\n",
      "diff GBP.JPY: -0.18023227424583865\n",
      "GBP.JPY\n",
      "diff GBP.AUD: -0.0006550408426371224\n",
      "diff GBP.NZD: -0.0008895795605594614\n",
      "diff GBP.CHF: -0.001188502131065805\n",
      "GBP.CHF\n",
      "diff JPY.USD: 1.838471781791251e-07\n",
      "diff JPY.EUR: -7.594537566142298e-07\n",
      "diff JPY.GBP: -6.491054143984397e-06\n",
      "diff JPY.AUD: -5.8641069818603925e-06\n",
      "diff JPY.NZD: -2.442074132930766e-07\n",
      "diff JPY.CHF: -1.0207205288482318e-05\n",
      "diff AUD.USD: 1.2474754895741569e-08\n",
      "diff AUD.EUR: -0.00028448376268275233\n",
      "diff AUD.GBP: -0.00021397952530632924\n",
      "diff AUD.JPY: -0.05316961822782673\n",
      "AUD.JPY\n",
      "diff AUD.NZD: -0.0005382194514365057\n",
      "diff AUD.CHF: -0.0003297818599515834\n",
      "diff NZD.USD: -1.0038412989743506e-08\n",
      "diff NZD.EUR: -0.00030142237327146493\n",
      "diff NZD.GBP: -0.00024234155919089506\n",
      "diff NZD.JPY: -0.0018455567247599447\n",
      "NZD.JPY\n",
      "diff NZD.AUD: -0.00044872591431188713\n",
      "diff NZD.CHF: -0.00027846435856071494\n",
      "diff CHF.USD: 5.574948135933511e-05\n",
      "diff CHF.EUR: -0.0006466491437211452\n",
      "diff CHF.GBP: -0.0007789858672925254\n",
      "diff CHF.JPY: -0.18589106604002836\n",
      "CHF.JPY\n",
      "diff CHF.AUD: -0.0006616054259145354\n",
      "diff CHF.NZD: -0.00066999069224849\n"
     ]
    }
   ],
   "source": [
    "for cur1 in currencies:\n",
    "    for cur2 in currencies:\n",
    "        if cur1 != cur2:\n",
    "            diff = exchange_rate[cur1][cur2] - 1 / exchange_rate[cur2][cur1]\n",
    "            print('diff ' + cur1 + '.' + cur2 + ': ' + str(diff))\n",
    "            if abs(diff) > 0.001:\n",
    "                print(cur1 + '.' + cur2)"
   ],
   "metadata": {
    "collapsed": false,
    "pycharm": {
     "name": "#%%\n"
    }
   }
  },
  {
   "cell_type": "code",
   "execution_count": 1,
   "outputs": [],
   "source": [
    "def check_arbitrage(result_dict, matrix, curr1, curr2, curr3):\n",
    "    arbitrage_amount = matrix[curr1][curr2] * matrix[curr2][curr3] * matrix[curr3][curr1] - 1\n",
    "    result_dict[curr1+'.'+curr2+'.'+curr3]=arbitrage_amount\n",
    "    arbitrage_amount_rev = matrix[curr1][curr3] * matrix[curr3][curr2] * matrix[curr2][curr1] - 1\n",
    "    result_dict[curr1+'.'+curr3+'.'+curr2]=arbitrage_amount_rev\n",
    "    print(curr1 + '->' + curr2 + '->' + curr3 + '->' + curr1 + ': ' + \"{:.6f}\".format(arbitrage_amount))\n",
    "    print(curr1 + '->' + curr3 + '->' + curr2 + '->' + curr1 + ': ' + \"{:.6f}\".format(arbitrage_amount_rev))\n",
    "    return arbitrage_amount"
   ],
   "metadata": {
    "collapsed": false,
    "pycharm": {
     "name": "#%%\n"
    }
   }
  },
  {
   "cell_type": "code",
   "execution_count": 6,
   "outputs": [
    {
     "name": "stdout",
     "output_type": "stream",
     "text": [
      "USD->EUR->GBP->USD: -0.000373\n",
      "USD->GBP->EUR->USD: -0.000000\n",
      "USD->EUR->JPY->USD: -0.000178\n",
      "USD->JPY->EUR->USD: 0.000096\n",
      "USD->EUR->AUD->USD: -0.000147\n",
      "USD->AUD->EUR->USD: -0.000267\n",
      "USD->EUR->NZD->USD: -0.000155\n",
      "USD->NZD->EUR->USD: -0.000325\n",
      "USD->EUR->CHF->USD: -0.000137\n",
      "USD->CHF->EUR->USD: -0.000475\n",
      "USD->GBP->JPY->USD: 0.000055\n",
      "USD->JPY->GBP->USD: -0.001113\n",
      "USD->GBP->AUD->USD: 0.000042\n",
      "USD->AUD->GBP->USD: -0.000416\n",
      "USD->GBP->NZD->USD: 0.000056\n",
      "USD->NZD->GBP->USD: -0.000520\n",
      "USD->GBP->CHF->USD: -0.000143\n",
      "USD->CHF->GBP->USD: -0.000766\n",
      "USD->JPY->AUD->USD: -0.000439\n",
      "USD->AUD->JPY->USD: -0.000096\n",
      "USD->JPY->NZD->USD: 0.000156\n",
      "USD->NZD->JPY->USD: -0.000153\n",
      "USD->JPY->CHF->USD: -0.001273\n",
      "USD->CHF->JPY->USD: -0.000027\n",
      "USD->AUD->NZD->USD: -0.000052\n",
      "USD->NZD->AUD->USD: -0.000440\n",
      "USD->AUD->CHF->USD: -0.000063\n",
      "USD->CHF->AUD->USD: -0.000352\n",
      "USD->NZD->CHF->USD: -0.000180\n",
      "USD->CHF->NZD->USD: -0.000199\n",
      "EUR->GBP->JPY->EUR: -0.000245\n",
      "EUR->JPY->GBP->EUR: -0.001314\n",
      "EUR->GBP->AUD->EUR: -0.000599\n",
      "EUR->AUD->GBP->EUR: -0.000563\n",
      "EUR->GBP->NZD->EUR: -0.000643\n",
      "EUR->NZD->GBP->EUR: -0.000675\n",
      "EUR->GBP->CHF->EUR: -0.001043\n",
      "EUR->CHF->GBP->EUR: -0.000956\n",
      "EUR->JPY->AUD->EUR: -0.000908\n",
      "EUR->AUD->JPY->EUR: -0.000170\n",
      "EUR->JPY->NZD->EUR: -0.000371\n",
      "EUR->NZD->JPY->EUR: -0.000236\n",
      "EUR->JPY->CHF->EUR: -0.002001\n",
      "EUR->CHF->JPY->EUR: -0.000144\n",
      "EUR->AUD->NZD->EUR: -0.000524\n",
      "EUR->NZD->AUD->EUR: -0.000862\n",
      "EUR->AUD->CHF->EUR: -0.000737\n",
      "EUR->CHF->AUD->EUR: -0.000809\n",
      "EUR->NZD->CHF->EUR: -0.000862\n",
      "EUR->CHF->NZD->EUR: -0.000714\n",
      "GBP->JPY->AUD->GBP: -0.000823\n",
      "GBP->AUD->JPY->GBP: -0.001190\n",
      "GBP->JPY->NZD->GBP: -0.000332\n",
      "GBP->NZD->JPY->GBP: -0.001234\n",
      "GBP->JPY->CHF->GBP: -0.002059\n",
      "GBP->CHF->JPY->GBP: -0.001359\n",
      "GBP->AUD->NZD->GBP: -0.000530\n",
      "GBP->NZD->AUD->GBP: -0.000800\n",
      "GBP->AUD->CHF->GBP: -0.000840\n",
      "GBP->CHF->AUD->GBP: -0.000963\n",
      "GBP->NZD->CHF->GBP: -0.000943\n",
      "GBP->CHF->NZD->GBP: -0.000914\n",
      "JPY->AUD->NZD->JPY: -0.000668\n",
      "JPY->NZD->AUD->JPY: -0.000403\n",
      "JPY->AUD->CHF->JPY: -0.000605\n",
      "JPY->CHF->AUD->JPY: -0.001796\n",
      "JPY->NZD->CHF->JPY: -0.000128\n",
      "JPY->CHF->NZD->JPY: -0.001701\n",
      "AUD->NZD->CHF->AUD: -0.000636\n",
      "AUD->CHF->NZD->AUD: -0.000754\n"
     ]
    }
   ],
   "source": [
    "result = dict()\n",
    "for i in range(0, len(currencies)):\n",
    "    for j in range(i + 1, len(currencies)):\n",
    "        for k in range(j + 1, len(currencies)):\n",
    "            check_arbitrage(result, exchange_rate, currencies[i], currencies[j], currencies[k])\n"
   ],
   "metadata": {
    "collapsed": false,
    "pycharm": {
     "name": "#%%\n"
    }
   }
  },
  {
   "cell_type": "code",
   "execution_count": 7,
   "outputs": [
    {
     "data": {
      "text/plain": "0.9212999939918518"
     },
     "execution_count": 7,
     "metadata": {},
     "output_type": "execute_result"
    }
   ],
   "source": [
    "exchange_rate['USD']['EUR']\n",
    "# exchange_rate[分母][分子]"
   ],
   "metadata": {
    "collapsed": false,
    "pycharm": {
     "name": "#%%\n"
    }
   }
  },
  {
   "cell_type": "code",
   "execution_count": 1,
   "outputs": [],
   "source": [
    "import pandas"
   ],
   "metadata": {
    "collapsed": false,
    "pycharm": {
     "name": "#%%\n"
    }
   }
  },
  {
   "cell_type": "code",
   "execution_count": null,
   "outputs": [],
   "source": [],
   "metadata": {
    "collapsed": false,
    "pycharm": {
     "name": "#%%\n"
    }
   }
  },
  {
   "cell_type": "code",
   "execution_count": 7,
   "outputs": [],
   "source": [],
   "metadata": {
    "collapsed": false,
    "pycharm": {
     "name": "#%%\n"
    }
   }
  }
 ],
 "metadata": {
  "kernelspec": {
   "display_name": "Python 3",
   "language": "python",
   "name": "python3"
  },
  "language_info": {
   "codemirror_mode": {
    "name": "ipython",
    "version": 2
   },
   "file_extension": ".py",
   "mimetype": "text/x-python",
   "name": "python",
   "nbconvert_exporter": "python",
   "pygments_lexer": "ipython2",
   "version": "2.7.6"
  }
 },
 "nbformat": 4,
 "nbformat_minor": 0
}