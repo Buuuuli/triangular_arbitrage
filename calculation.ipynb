{
 "cells": [
  {
   "cell_type": "code",
   "execution_count": 1,
   "outputs": [],
   "source": [
    "import yahoo"
   ],
   "metadata": {
    "collapsed": false,
    "pycharm": {
     "name": "#%%\n"
    }
   }
  },
  {
   "cell_type": "code",
   "execution_count": 4,
   "outputs": [
    {
     "name": "stdout",
     "output_type": "stream",
     "text": [
      "[*********************100%***********************]  1 of 1 completed\n",
      "[*********************100%***********************]  1 of 1 completed\n",
      "[*********************100%***********************]  1 of 1 completed\n",
      "[*********************100%***********************]  1 of 1 completed\n",
      "[*********************100%***********************]  1 of 1 completed\n",
      "[*********************100%***********************]  1 of 1 completed\n",
      "[*********************100%***********************]  1 of 1 completed\n",
      "[*********************100%***********************]  1 of 1 completed\n",
      "[*********************100%***********************]  1 of 1 completed\n",
      "[*********************100%***********************]  1 of 1 completed\n",
      "[*********************100%***********************]  1 of 1 completed\n",
      "[*********************100%***********************]  1 of 1 completed\n",
      "[*********************100%***********************]  1 of 1 completed\n",
      "[*********************100%***********************]  1 of 1 completed\n",
      "[*********************100%***********************]  1 of 1 completed\n",
      "[*********************100%***********************]  1 of 1 completed\n",
      "[*********************100%***********************]  1 of 1 completed\n",
      "[*********************100%***********************]  1 of 1 completed\n",
      "[*********************100%***********************]  1 of 1 completed\n",
      "[*********************100%***********************]  1 of 1 completed\n",
      "[*********************100%***********************]  1 of 1 completed\n",
      "[*********************100%***********************]  1 of 1 completed\n",
      "[*********************100%***********************]  1 of 1 completed\n",
      "[*********************100%***********************]  1 of 1 completed\n",
      "[*********************100%***********************]  1 of 1 completed\n",
      "[*********************100%***********************]  1 of 1 completed\n",
      "[*********************100%***********************]  1 of 1 completed\n",
      "[*********************100%***********************]  1 of 1 completed\n",
      "[*********************100%***********************]  1 of 1 completed\n",
      "[*********************100%***********************]  1 of 1 completed\n",
      "[*********************100%***********************]  1 of 1 completed\n",
      "[*********************100%***********************]  1 of 1 completed\n",
      "[*********************100%***********************]  1 of 1 completed\n",
      "[*********************100%***********************]  1 of 1 completed\n",
      "[*********************100%***********************]  1 of 1 completed\n",
      "[*********************100%***********************]  1 of 1 completed\n",
      "[*********************100%***********************]  1 of 1 completed\n",
      "[*********************100%***********************]  1 of 1 completed\n",
      "[*********************100%***********************]  1 of 1 completed\n",
      "[*********************100%***********************]  1 of 1 completed\n",
      "[*********************100%***********************]  1 of 1 completed\n",
      "[*********************100%***********************]  1 of 1 completed\n"
     ]
    }
   ],
   "source": [
    "currencies = ['USD', 'EUR', 'GBP', 'JPY', 'AUD', 'NZD', 'CHF']\n",
    "# currencies = ['PEN','ARS', 'BRL','MXN', 'MYR']\n",
    "exchange_rate = yahoo.fetch_all(currencies)\n"
   ],
   "metadata": {
    "collapsed": false,
    "pycharm": {
     "name": "#%%\n"
    }
   }
  },
  {
   "cell_type": "code",
   "execution_count": 5,
   "outputs": [
    {
     "data": {
      "text/plain": "            USD         EUR         GBP       JPY        AUD        NZD  \\\nUSD           1    1.078051    1.301338  0.007882   0.735175   0.672631   \nEUR      0.9276           1     1.20734  0.007314    0.68208    0.62357   \nGBP     0.76844     0.82805           1  0.006053    0.56483    0.51635   \nJPY  126.869003  136.692001  165.065994         1  93.239998  85.231003   \nAUD     1.36014     1.46551     1.76955  0.010718          1    0.91385   \nNZD      1.4867       1.603     1.93576  0.011727    1.09376          1   \nCHF     0.94495     1.01803     1.22941  0.007438    0.69455    0.63503   \n\n            CHF  \nUSD    1.058235  \nEUR      0.9815  \nGBP      0.8129  \nJPY  134.248993  \nAUD     1.43896  \nNZD      1.5742  \nCHF           1  ",
      "text/html": "<div>\n<style scoped>\n    .dataframe tbody tr th:only-of-type {\n        vertical-align: middle;\n    }\n\n    .dataframe tbody tr th {\n        vertical-align: top;\n    }\n\n    .dataframe thead th {\n        text-align: right;\n    }\n</style>\n<table border=\"1\" class=\"dataframe\">\n  <thead>\n    <tr style=\"text-align: right;\">\n      <th></th>\n      <th>USD</th>\n      <th>EUR</th>\n      <th>GBP</th>\n      <th>JPY</th>\n      <th>AUD</th>\n      <th>NZD</th>\n      <th>CHF</th>\n    </tr>\n  </thead>\n  <tbody>\n    <tr>\n      <th>USD</th>\n      <td>1</td>\n      <td>1.078051</td>\n      <td>1.301338</td>\n      <td>0.007882</td>\n      <td>0.735175</td>\n      <td>0.672631</td>\n      <td>1.058235</td>\n    </tr>\n    <tr>\n      <th>EUR</th>\n      <td>0.9276</td>\n      <td>1</td>\n      <td>1.20734</td>\n      <td>0.007314</td>\n      <td>0.68208</td>\n      <td>0.62357</td>\n      <td>0.9815</td>\n    </tr>\n    <tr>\n      <th>GBP</th>\n      <td>0.76844</td>\n      <td>0.82805</td>\n      <td>1</td>\n      <td>0.006053</td>\n      <td>0.56483</td>\n      <td>0.51635</td>\n      <td>0.8129</td>\n    </tr>\n    <tr>\n      <th>JPY</th>\n      <td>126.869003</td>\n      <td>136.692001</td>\n      <td>165.065994</td>\n      <td>1</td>\n      <td>93.239998</td>\n      <td>85.231003</td>\n      <td>134.248993</td>\n    </tr>\n    <tr>\n      <th>AUD</th>\n      <td>1.36014</td>\n      <td>1.46551</td>\n      <td>1.76955</td>\n      <td>0.010718</td>\n      <td>1</td>\n      <td>0.91385</td>\n      <td>1.43896</td>\n    </tr>\n    <tr>\n      <th>NZD</th>\n      <td>1.4867</td>\n      <td>1.603</td>\n      <td>1.93576</td>\n      <td>0.011727</td>\n      <td>1.09376</td>\n      <td>1</td>\n      <td>1.5742</td>\n    </tr>\n    <tr>\n      <th>CHF</th>\n      <td>0.94495</td>\n      <td>1.01803</td>\n      <td>1.22941</td>\n      <td>0.007438</td>\n      <td>0.69455</td>\n      <td>0.63503</td>\n      <td>1</td>\n    </tr>\n  </tbody>\n</table>\n</div>"
     },
     "execution_count": 5,
     "metadata": {},
     "output_type": "execute_result"
    }
   ],
   "source": [
    "exchange_rate"
   ],
   "metadata": {
    "collapsed": false,
    "pycharm": {
     "name": "#%%\n"
    }
   }
  },
  {
   "cell_type": "code",
   "execution_count": 6,
   "outputs": [
    {
     "name": "stdout",
     "output_type": "stream",
     "text": [
      "diff USD.EUR: -1.5581902435002348e-09\n",
      "diff USD.GBP: -2.5063582542728113e-08\n",
      "diff USD.JPY: 0.00400581313182613\n",
      "USD.JPY\n",
      "diff USD.AUD: -8.00337895070502e-05\n",
      "diff USD.NZD: -5.3466721272599216e-08\n",
      "diff USD.CHF: -1.9980920291651216e-05\n",
      "diff EUR.USD: -1.8109187482906464e-09\n",
      "diff EUR.GBP: -0.000217080804227332\n",
      "diff EUR.JPY: -0.03956208807076678\n",
      "EUR.JPY\n",
      "diff EUR.AUD: -0.0005937348186320079\n",
      "diff EUR.NZD: -0.0006690860862383907\n",
      "diff EUR.CHF: -0.0008186228623308089\n",
      "diff GBP.USD: -4.244467355363213e-08\n",
      "diff GBP.EUR: -0.0003165151055242177\n",
      "diff GBP.JPY: -0.1413348595051218\n",
      "GBP.JPY\n",
      "diff GBP.AUD: -0.0008942223906152069\n",
      "diff GBP.NZD: -0.0009109492430696697\n",
      "diff GBP.CHF: -0.0007535492141608202\n",
      "diff JPY.USD: 2.488819167145717e-07\n",
      "diff JPY.EUR: -2.1167390584532486e-06\n",
      "diff JPY.GBP: -5.182775167642158e-06\n",
      "diff JPY.AUD: -7.010849317805323e-06\n",
      "diff JPY.NZD: -5.82017613589593e-06\n",
      "diff JPY.CHF: -1.0845623489570515e-05\n",
      "diff AUD.USD: -4.325941305027836e-05\n",
      "diff AUD.EUR: -0.00027633699177420645\n",
      "diff AUD.GBP: -0.00028543055989282973\n",
      "diff AUD.JPY: -0.06099006979010824\n",
      "AUD.JPY\n",
      "diff AUD.NZD: -0.00051146387065093\n",
      "diff AUD.CHF: -0.0003963935305195676\n",
      "diff NZD.USD: -2.4190052960726405e-08\n",
      "diff NZD.EUR: -0.0002602757428787905\n",
      "diff NZD.GBP: -0.0002429891155700803\n",
      "diff NZD.JPY: -0.042300627880763386\n",
      "NZD.JPY\n",
      "diff NZD.AUD: -0.00042733438525810463\n",
      "diff NZD.CHF: -0.00021331280635150662\n",
      "diff CHF.USD: -2.2376319772421382e-05\n",
      "diff CHF.EUR: -0.0007892481814443242\n",
      "diff CHF.GBP: -0.0004982553706535109\n",
      "diff CHF.JPY: -0.1957534370986025\n",
      "CHF.JPY\n",
      "diff CHF.AUD: -0.0008212431582328428\n",
      "diff CHF.NZD: -0.0005287892572938269\n"
     ]
    }
   ],
   "source": [
    "for cur1 in currencies:\n",
    "    for cur2 in currencies:\n",
    "        if cur1 != cur2:\n",
    "            diff = exchange_rate[cur1][cur2] - 1 / exchange_rate[cur2][cur1]\n",
    "            print('diff ' + cur1 + '.' + cur2 + ': ' + str(diff))\n",
    "            if abs(diff) > 0.001:\n",
    "                print(cur1 + '.' + cur2)"
   ],
   "metadata": {
    "collapsed": false,
    "pycharm": {
     "name": "#%%\n"
    }
   }
  },
  {
   "cell_type": "code",
   "execution_count": 13,
   "outputs": [],
   "source": [
    "def check_arbitrage(matrix, curr1, curr2, curr3):\n",
    "    \"\"\"\n",
    "    curr1,2,3 are currencies in matrix\n",
    "    :param matrix:\n",
    "    :param curr1:\n",
    "    :param curr2:\n",
    "    :param curr3:\n",
    "    :return: arbitrage amount\n",
    "    \"\"\"\n",
    "    arbitrage_amount = matrix[curr1][curr2] * matrix[curr2][curr3] * matrix[curr3][curr1] - 1\n",
    "    print(curr1 + '->' + curr2 + '->' + curr3 + '->' + curr1 + ': ' + \"{:.6f}\".format(arbitrage_amount))\n",
    "    arbitrage_amount_rev = matrix[curr1][curr3] * matrix[curr3][curr2] * matrix[curr2][curr1] - 1\n",
    "    print(curr1 + '->' + curr3 + '->' + curr2 + '->' + curr1 + ': ' + \"{:.6f}\".format(arbitrage_amount_rev))\n",
    "    return arbitrage_amount"
   ],
   "metadata": {
    "collapsed": false,
    "pycharm": {
     "name": "#%%\n"
    }
   }
  },
  {
   "cell_type": "code",
   "execution_count": 14,
   "outputs": [
    {
     "name": "stdout",
     "output_type": "stream",
     "text": [
      "USD->EUR->GBP->USD: -0.000444\n",
      "USD->GBP->EUR->USD: 0.000181\n",
      "USD->EUR->JPY->USD: -0.000548\n",
      "USD->JPY->EUR->USD: 0.000290\n",
      "USD->EUR->AUD->USD: -0.000598\n",
      "USD->AUD->EUR->USD: 0.000134\n",
      "USD->EUR->NZD->USD: 0.000163\n",
      "USD->NZD->EUR->USD: -0.000580\n",
      "USD->EUR->CHF->USD: -0.000683\n",
      "USD->CHF->EUR->USD: -0.000142\n",
      "USD->GBP->JPY->USD: -0.000171\n",
      "USD->JPY->GBP->USD: -0.000653\n",
      "USD->GBP->AUD->USD: -0.000314\n",
      "USD->AUD->GBP->USD: -0.000250\n",
      "USD->GBP->NZD->USD: 0.000548\n",
      "USD->NZD->GBP->USD: -0.001018\n",
      "USD->GBP->CHF->USD: -0.000256\n",
      "USD->CHF->GBP->USD: -0.000378\n",
      "USD->JPY->AUD->USD: -0.000322\n",
      "USD->AUD->JPY->USD: -0.000359\n",
      "USD->JPY->NZD->USD: 0.000735\n",
      "USD->NZD->JPY->USD: -0.001199\n",
      "USD->JPY->CHF->USD: -0.001395\n",
      "USD->CHF->JPY->USD: -0.000051\n",
      "USD->AUD->NZD->USD: 0.000650\n",
      "USD->NZD->AUD->USD: -0.001176\n",
      "USD->AUD->CHF->USD: -0.000301\n",
      "USD->CHF->AUD->USD: -0.000349\n",
      "USD->NZD->CHF->USD: -0.000922\n",
      "USD->CHF->NZD->USD: 0.000565\n",
      "EUR->GBP->JPY->EUR: -0.000356\n",
      "EUR->JPY->GBP->EUR: -0.001051\n",
      "EUR->GBP->AUD->EUR: -0.000565\n",
      "EUR->AUD->GBP->EUR: -0.000607\n",
      "EUR->GBP->NZD->EUR: -0.000476\n",
      "EUR->NZD->GBP->EUR: -0.000674\n",
      "EUR->GBP->CHF->EUR: -0.000820\n",
      "EUR->CHF->GBP->EUR: -0.000858\n",
      "EUR->JPY->AUD->EUR: -0.000709\n",
      "EUR->AUD->JPY->EUR: -0.000639\n",
      "EUR->JPY->NZD->EUR: -0.000425\n",
      "EUR->NZD->JPY->EUR: -0.000777\n",
      "EUR->JPY->CHF->EUR: -0.002094\n",
      "EUR->CHF->JPY->EUR: -0.000454\n",
      "EUR->AUD->NZD->EUR: -0.000469\n",
      "EUR->NZD->AUD->EUR: -0.000820\n",
      "EUR->AUD->CHF->EUR: -0.000961\n",
      "EUR->CHF->AUD->EUR: -0.000818\n",
      "EUR->NZD->CHF->EUR: -0.000879\n",
      "EUR->CHF->NZD->EUR: -0.000677\n",
      "GBP->JPY->AUD->GBP: -0.000716\n",
      "GBP->AUD->JPY->GBP: -0.001298\n",
      "GBP->JPY->NZD->GBP: -0.000486\n",
      "GBP->NZD->JPY->GBP: -0.001335\n",
      "GBP->JPY->CHF->GBP: -0.001953\n",
      "GBP->CHF->JPY->GBP: -0.000970\n",
      "GBP->AUD->NZD->GBP: -0.000624\n",
      "GBP->NZD->AUD->GBP: -0.000819\n",
      "GBP->AUD->CHF->GBP: -0.000913\n",
      "GBP->CHF->AUD->GBP: -0.000775\n",
      "GBP->NZD->CHF->GBP: -0.000730\n",
      "GBP->CHF->NZD->GBP: -0.000689\n",
      "JPY->AUD->NZD->JPY: -0.000844\n",
      "JPY->NZD->AUD->JPY: -0.000773\n",
      "JPY->AUD->CHF->JPY: -0.000625\n",
      "JPY->CHF->AUD->JPY: -0.002054\n",
      "JPY->NZD->CHF->JPY: -0.000248\n",
      "JPY->CHF->NZD->JPY: -0.002039\n",
      "AUD->NZD->CHF->AUD: -0.000541\n",
      "AUD->CHF->NZD->AUD: -0.000832\n"
     ]
    }
   ],
   "source": [
    "for i in range(0, len(currencies)):\n",
    "    for j in range(i + 1, len(currencies)):\n",
    "        for k in range(j + 1, len(currencies)):\n",
    "            check_arbitrage(exchange_rate, currencies[i], currencies[j], currencies[k])\n"
   ],
   "metadata": {
    "collapsed": false,
    "pycharm": {
     "name": "#%%\n"
    }
   }
  },
  {
   "cell_type": "code",
   "execution_count": 15,
   "outputs": [
    {
     "data": {
      "text/plain": "0.9265999794006348"
     },
     "execution_count": 15,
     "metadata": {},
     "output_type": "execute_result"
    }
   ],
   "source": [
    "exchange_rate['USD']['EUR']\n",
    "# exchange_rate[分母][分子]"
   ],
   "metadata": {
    "collapsed": false,
    "pycharm": {
     "name": "#%%\n"
    }
   }
  },
  {
   "cell_type": "code",
   "execution_count": null,
   "outputs": [],
   "source": [],
   "metadata": {
    "collapsed": false,
    "pycharm": {
     "name": "#%%\n"
    }
   }
  }
 ],
 "metadata": {
  "kernelspec": {
   "display_name": "Python 3",
   "language": "python",
   "name": "python3"
  },
  "language_info": {
   "codemirror_mode": {
    "name": "ipython",
    "version": 2
   },
   "file_extension": ".py",
   "mimetype": "text/x-python",
   "name": "python",
   "nbconvert_exporter": "python",
   "pygments_lexer": "ipython2",
   "version": "2.7.6"
  }
 },
 "nbformat": 4,
 "nbformat_minor": 0
}