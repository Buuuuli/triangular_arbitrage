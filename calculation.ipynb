{
 "cells": [
  {
   "cell_type": "code",
   "execution_count": 1,
   "outputs": [],
   "source": [
    "import yahoo"
   ],
   "metadata": {
    "collapsed": false,
    "pycharm": {
     "name": "#%%\n"
    }
   }
  },
  {
   "cell_type": "code",
   "execution_count": 2,
   "outputs": [
    {
     "name": "stdout",
     "output_type": "stream",
     "text": [
      "[*********************100%***********************]  1 of 1 completed\n",
      "[*********************100%***********************]  1 of 1 completed\n",
      "[*********************100%***********************]  1 of 1 completed\n",
      "[*********************100%***********************]  1 of 1 completed\n",
      "[*********************100%***********************]  1 of 1 completed\n",
      "[*********************100%***********************]  1 of 1 completed\n",
      "[*********************100%***********************]  1 of 1 completed\n",
      "[*********************100%***********************]  1 of 1 completed\n",
      "[*********************100%***********************]  1 of 1 completed\n",
      "[*********************100%***********************]  1 of 1 completed\n",
      "[*********************100%***********************]  1 of 1 completed\n",
      "[*********************100%***********************]  1 of 1 completed\n",
      "[*********************100%***********************]  1 of 1 completed\n",
      "[*********************100%***********************]  1 of 1 completed\n",
      "[*********************100%***********************]  1 of 1 completed\n",
      "[*********************100%***********************]  1 of 1 completed\n",
      "[*********************100%***********************]  1 of 1 completed\n",
      "[*********************100%***********************]  1 of 1 completed\n",
      "[*********************100%***********************]  1 of 1 completed\n",
      "[*********************100%***********************]  1 of 1 completed\n"
     ]
    }
   ],
   "source": [
    "currencies = ['USD', 'EUR', 'GBP', 'JPY', 'AUD']\n",
    "exchange_rate = yahoo.fetch_all(currencies)"
   ],
   "metadata": {
    "collapsed": false,
    "pycharm": {
     "name": "#%%\n"
    }
   }
  },
  {
   "cell_type": "code",
   "execution_count": 3,
   "outputs": [
    {
     "data": {
      "text/plain": "            USD         EUR         GBP       JPY        AUD\nUSD           1    1.080614    1.303764    0.0079   0.737262\nEUR      0.9254           1     1.20673  0.007312    0.68226\nGBP     0.76701     0.82839           1  0.006054    0.56529\nJPY  126.589996  136.720001  165.001007         1  93.317001\nAUD     1.35637     1.46498     1.76839  0.010709          1",
      "text/html": "<div>\n<style scoped>\n    .dataframe tbody tr th:only-of-type {\n        vertical-align: middle;\n    }\n\n    .dataframe tbody tr th {\n        vertical-align: top;\n    }\n\n    .dataframe thead th {\n        text-align: right;\n    }\n</style>\n<table border=\"1\" class=\"dataframe\">\n  <thead>\n    <tr style=\"text-align: right;\">\n      <th></th>\n      <th>USD</th>\n      <th>EUR</th>\n      <th>GBP</th>\n      <th>JPY</th>\n      <th>AUD</th>\n    </tr>\n  </thead>\n  <tbody>\n    <tr>\n      <th>USD</th>\n      <td>1</td>\n      <td>1.080614</td>\n      <td>1.303764</td>\n      <td>0.0079</td>\n      <td>0.737262</td>\n    </tr>\n    <tr>\n      <th>EUR</th>\n      <td>0.9254</td>\n      <td>1</td>\n      <td>1.20673</td>\n      <td>0.007312</td>\n      <td>0.68226</td>\n    </tr>\n    <tr>\n      <th>GBP</th>\n      <td>0.76701</td>\n      <td>0.82839</td>\n      <td>1</td>\n      <td>0.006054</td>\n      <td>0.56529</td>\n    </tr>\n    <tr>\n      <th>JPY</th>\n      <td>126.589996</td>\n      <td>136.720001</td>\n      <td>165.001007</td>\n      <td>1</td>\n      <td>93.317001</td>\n    </tr>\n    <tr>\n      <th>AUD</th>\n      <td>1.35637</td>\n      <td>1.46498</td>\n      <td>1.76839</td>\n      <td>0.010709</td>\n      <td>1</td>\n    </tr>\n  </tbody>\n</table>\n</div>"
     },
     "execution_count": 3,
     "metadata": {},
     "output_type": "execute_result"
    }
   ],
   "source": [
    "exchange_rate"
   ],
   "metadata": {
    "collapsed": false,
    "pycharm": {
     "name": "#%%\n"
    }
   }
  },
  {
   "cell_type": "code",
   "execution_count": 6,
   "outputs": [],
   "source": [
    "for cur1 in currencies:\n",
    "    for cur2 in currencies:\n",
    "        if cur1 != cur2:\n",
    "            if (exchange_rate[cur1][cur2] - 1 / exchange_rate[cur2][cur1]) > 0.001:\n",
    "                print(cur1 + '.' + cur2)"
   ],
   "metadata": {
    "collapsed": false,
    "pycharm": {
     "name": "#%%\n"
    }
   }
  },
  {
   "cell_type": "code",
   "execution_count": null,
   "outputs": [],
   "source": [],
   "metadata": {
    "collapsed": false,
    "pycharm": {
     "name": "#%%\n"
    }
   }
  }
 ],
 "metadata": {
  "kernelspec": {
   "display_name": "Python 3",
   "language": "python",
   "name": "python3"
  },
  "language_info": {
   "codemirror_mode": {
    "name": "ipython",
    "version": 2
   },
   "file_extension": ".py",
   "mimetype": "text/x-python",
   "name": "python",
   "nbconvert_exporter": "python",
   "pygments_lexer": "ipython2",
   "version": "2.7.6"
  }
 },
 "nbformat": 4,
 "nbformat_minor": 0
}